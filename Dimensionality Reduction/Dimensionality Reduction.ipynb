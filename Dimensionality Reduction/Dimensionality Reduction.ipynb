{
 "cells": [
  {
   "cell_type": "code",
   "execution_count": 1,
   "metadata": {},
   "outputs": [],
   "source": [
    "# for Mathematical Operations\n",
    "import numpy as np\n",
    "\n",
    "# For DataFrame Operations\n",
    "import pandas as pd\n",
    "\n",
    "# for Data Visualizations\n",
    "import matplotlib.pyplot as plt\n",
    "import seaborn as sns"
   ]
  },
  {
   "cell_type": "code",
   "execution_count": 2,
   "metadata": {},
   "outputs": [
    {
     "data": {
      "text/plain": [
       "(1470, 35)"
      ]
     },
     "execution_count": 2,
     "metadata": {},
     "output_type": "execute_result"
    }
   ],
   "source": [
    "# lets Import the Dataset\n",
    "data = pd.read_csv('Employee_Data.csv')\n",
    "\n",
    "# lets check the shape of the dataset\n",
    "data.shape"
   ]
  },
  {
   "cell_type": "code",
   "execution_count": 3,
   "metadata": {},
   "outputs": [
    {
     "data": {
      "text/html": [
       "<div>\n",
       "<style scoped>\n",
       "    .dataframe tbody tr th:only-of-type {\n",
       "        vertical-align: middle;\n",
       "    }\n",
       "\n",
       "    .dataframe tbody tr th {\n",
       "        vertical-align: top;\n",
       "    }\n",
       "\n",
       "    .dataframe thead th {\n",
       "        text-align: right;\n",
       "    }\n",
       "</style>\n",
       "<table border=\"1\" class=\"dataframe\">\n",
       "  <thead>\n",
       "    <tr style=\"text-align: right;\">\n",
       "      <th></th>\n",
       "      <th>Age</th>\n",
       "      <th>Attrition</th>\n",
       "      <th>BusinessTravel</th>\n",
       "      <th>DailyRate</th>\n",
       "      <th>Department</th>\n",
       "      <th>DistanceFromHome</th>\n",
       "      <th>Education</th>\n",
       "      <th>EducationField</th>\n",
       "      <th>EmployeeCount</th>\n",
       "      <th>EmployeeNumber</th>\n",
       "      <th>EnvironmentSatisfaction</th>\n",
       "      <th>Gender</th>\n",
       "      <th>HourlyRate</th>\n",
       "      <th>JobInvolvement</th>\n",
       "      <th>JobLevel</th>\n",
       "      <th>JobRole</th>\n",
       "      <th>JobSatisfaction</th>\n",
       "      <th>MaritalStatus</th>\n",
       "      <th>MonthlyIncome</th>\n",
       "      <th>MonthlyRate</th>\n",
       "      <th>NumCompaniesWorked</th>\n",
       "      <th>Over18</th>\n",
       "      <th>OverTime</th>\n",
       "      <th>PercentSalaryHike</th>\n",
       "      <th>PerformanceRating</th>\n",
       "      <th>RelationshipSatisfaction</th>\n",
       "      <th>StandardHours</th>\n",
       "      <th>StockOptionLevel</th>\n",
       "      <th>TotalWorkingYears</th>\n",
       "      <th>TrainingTimesLastYear</th>\n",
       "      <th>WorkLifeBalance</th>\n",
       "      <th>YearsAtCompany</th>\n",
       "      <th>YearsInCurrentRole</th>\n",
       "      <th>YearsSinceLastPromotion</th>\n",
       "      <th>YearsWithCurrManager</th>\n",
       "    </tr>\n",
       "  </thead>\n",
       "  <tbody>\n",
       "    <tr>\n",
       "      <th>0</th>\n",
       "      <td>41</td>\n",
       "      <td>Yes</td>\n",
       "      <td>Travel_Rarely</td>\n",
       "      <td>1102</td>\n",
       "      <td>Sales</td>\n",
       "      <td>1</td>\n",
       "      <td>2</td>\n",
       "      <td>Life Sciences</td>\n",
       "      <td>1</td>\n",
       "      <td>1</td>\n",
       "      <td>2</td>\n",
       "      <td>Female</td>\n",
       "      <td>94</td>\n",
       "      <td>3</td>\n",
       "      <td>2</td>\n",
       "      <td>Sales Executive</td>\n",
       "      <td>4</td>\n",
       "      <td>Single</td>\n",
       "      <td>5993</td>\n",
       "      <td>19479</td>\n",
       "      <td>8</td>\n",
       "      <td>Y</td>\n",
       "      <td>Yes</td>\n",
       "      <td>11</td>\n",
       "      <td>3</td>\n",
       "      <td>1</td>\n",
       "      <td>80</td>\n",
       "      <td>0</td>\n",
       "      <td>8</td>\n",
       "      <td>0</td>\n",
       "      <td>1</td>\n",
       "      <td>6</td>\n",
       "      <td>4</td>\n",
       "      <td>0</td>\n",
       "      <td>5</td>\n",
       "    </tr>\n",
       "    <tr>\n",
       "      <th>1</th>\n",
       "      <td>49</td>\n",
       "      <td>No</td>\n",
       "      <td>Travel_Frequently</td>\n",
       "      <td>279</td>\n",
       "      <td>Research &amp; Development</td>\n",
       "      <td>8</td>\n",
       "      <td>1</td>\n",
       "      <td>Life Sciences</td>\n",
       "      <td>1</td>\n",
       "      <td>2</td>\n",
       "      <td>3</td>\n",
       "      <td>Male</td>\n",
       "      <td>61</td>\n",
       "      <td>2</td>\n",
       "      <td>2</td>\n",
       "      <td>Research Scientist</td>\n",
       "      <td>2</td>\n",
       "      <td>Married</td>\n",
       "      <td>5130</td>\n",
       "      <td>24907</td>\n",
       "      <td>1</td>\n",
       "      <td>Y</td>\n",
       "      <td>No</td>\n",
       "      <td>23</td>\n",
       "      <td>4</td>\n",
       "      <td>4</td>\n",
       "      <td>80</td>\n",
       "      <td>1</td>\n",
       "      <td>10</td>\n",
       "      <td>3</td>\n",
       "      <td>3</td>\n",
       "      <td>10</td>\n",
       "      <td>7</td>\n",
       "      <td>1</td>\n",
       "      <td>7</td>\n",
       "    </tr>\n",
       "    <tr>\n",
       "      <th>2</th>\n",
       "      <td>37</td>\n",
       "      <td>Yes</td>\n",
       "      <td>Travel_Rarely</td>\n",
       "      <td>1373</td>\n",
       "      <td>Research &amp; Development</td>\n",
       "      <td>2</td>\n",
       "      <td>2</td>\n",
       "      <td>Other</td>\n",
       "      <td>1</td>\n",
       "      <td>4</td>\n",
       "      <td>4</td>\n",
       "      <td>Male</td>\n",
       "      <td>92</td>\n",
       "      <td>2</td>\n",
       "      <td>1</td>\n",
       "      <td>Laboratory Technician</td>\n",
       "      <td>3</td>\n",
       "      <td>Single</td>\n",
       "      <td>2090</td>\n",
       "      <td>2396</td>\n",
       "      <td>6</td>\n",
       "      <td>Y</td>\n",
       "      <td>Yes</td>\n",
       "      <td>15</td>\n",
       "      <td>3</td>\n",
       "      <td>2</td>\n",
       "      <td>80</td>\n",
       "      <td>0</td>\n",
       "      <td>7</td>\n",
       "      <td>3</td>\n",
       "      <td>3</td>\n",
       "      <td>0</td>\n",
       "      <td>0</td>\n",
       "      <td>0</td>\n",
       "      <td>0</td>\n",
       "    </tr>\n",
       "    <tr>\n",
       "      <th>3</th>\n",
       "      <td>33</td>\n",
       "      <td>No</td>\n",
       "      <td>Travel_Frequently</td>\n",
       "      <td>1392</td>\n",
       "      <td>Research &amp; Development</td>\n",
       "      <td>3</td>\n",
       "      <td>4</td>\n",
       "      <td>Life Sciences</td>\n",
       "      <td>1</td>\n",
       "      <td>5</td>\n",
       "      <td>4</td>\n",
       "      <td>Female</td>\n",
       "      <td>56</td>\n",
       "      <td>3</td>\n",
       "      <td>1</td>\n",
       "      <td>Research Scientist</td>\n",
       "      <td>3</td>\n",
       "      <td>Married</td>\n",
       "      <td>2909</td>\n",
       "      <td>23159</td>\n",
       "      <td>1</td>\n",
       "      <td>Y</td>\n",
       "      <td>Yes</td>\n",
       "      <td>11</td>\n",
       "      <td>3</td>\n",
       "      <td>3</td>\n",
       "      <td>80</td>\n",
       "      <td>0</td>\n",
       "      <td>8</td>\n",
       "      <td>3</td>\n",
       "      <td>3</td>\n",
       "      <td>8</td>\n",
       "      <td>7</td>\n",
       "      <td>3</td>\n",
       "      <td>0</td>\n",
       "    </tr>\n",
       "    <tr>\n",
       "      <th>4</th>\n",
       "      <td>27</td>\n",
       "      <td>No</td>\n",
       "      <td>Travel_Rarely</td>\n",
       "      <td>591</td>\n",
       "      <td>Research &amp; Development</td>\n",
       "      <td>2</td>\n",
       "      <td>1</td>\n",
       "      <td>Medical</td>\n",
       "      <td>1</td>\n",
       "      <td>7</td>\n",
       "      <td>1</td>\n",
       "      <td>Male</td>\n",
       "      <td>40</td>\n",
       "      <td>3</td>\n",
       "      <td>1</td>\n",
       "      <td>Laboratory Technician</td>\n",
       "      <td>2</td>\n",
       "      <td>Married</td>\n",
       "      <td>3468</td>\n",
       "      <td>16632</td>\n",
       "      <td>9</td>\n",
       "      <td>Y</td>\n",
       "      <td>No</td>\n",
       "      <td>12</td>\n",
       "      <td>3</td>\n",
       "      <td>4</td>\n",
       "      <td>80</td>\n",
       "      <td>1</td>\n",
       "      <td>6</td>\n",
       "      <td>3</td>\n",
       "      <td>3</td>\n",
       "      <td>2</td>\n",
       "      <td>2</td>\n",
       "      <td>2</td>\n",
       "      <td>2</td>\n",
       "    </tr>\n",
       "  </tbody>\n",
       "</table>\n",
       "</div>"
      ],
      "text/plain": [
       "   Age Attrition     BusinessTravel  DailyRate              Department  \\\n",
       "0   41       Yes      Travel_Rarely       1102                   Sales   \n",
       "1   49        No  Travel_Frequently        279  Research & Development   \n",
       "2   37       Yes      Travel_Rarely       1373  Research & Development   \n",
       "3   33        No  Travel_Frequently       1392  Research & Development   \n",
       "4   27        No      Travel_Rarely        591  Research & Development   \n",
       "\n",
       "   DistanceFromHome  Education EducationField  EmployeeCount  EmployeeNumber  \\\n",
       "0                 1          2  Life Sciences              1               1   \n",
       "1                 8          1  Life Sciences              1               2   \n",
       "2                 2          2          Other              1               4   \n",
       "3                 3          4  Life Sciences              1               5   \n",
       "4                 2          1        Medical              1               7   \n",
       "\n",
       "   EnvironmentSatisfaction  Gender  HourlyRate  JobInvolvement  JobLevel  \\\n",
       "0                        2  Female          94               3         2   \n",
       "1                        3    Male          61               2         2   \n",
       "2                        4    Male          92               2         1   \n",
       "3                        4  Female          56               3         1   \n",
       "4                        1    Male          40               3         1   \n",
       "\n",
       "                 JobRole  JobSatisfaction MaritalStatus  MonthlyIncome  \\\n",
       "0        Sales Executive                4        Single           5993   \n",
       "1     Research Scientist                2       Married           5130   \n",
       "2  Laboratory Technician                3        Single           2090   \n",
       "3     Research Scientist                3       Married           2909   \n",
       "4  Laboratory Technician                2       Married           3468   \n",
       "\n",
       "   MonthlyRate  NumCompaniesWorked Over18 OverTime  PercentSalaryHike  \\\n",
       "0        19479                   8      Y      Yes                 11   \n",
       "1        24907                   1      Y       No                 23   \n",
       "2         2396                   6      Y      Yes                 15   \n",
       "3        23159                   1      Y      Yes                 11   \n",
       "4        16632                   9      Y       No                 12   \n",
       "\n",
       "   PerformanceRating  RelationshipSatisfaction  StandardHours  \\\n",
       "0                  3                         1             80   \n",
       "1                  4                         4             80   \n",
       "2                  3                         2             80   \n",
       "3                  3                         3             80   \n",
       "4                  3                         4             80   \n",
       "\n",
       "   StockOptionLevel  TotalWorkingYears  TrainingTimesLastYear  \\\n",
       "0                 0                  8                      0   \n",
       "1                 1                 10                      3   \n",
       "2                 0                  7                      3   \n",
       "3                 0                  8                      3   \n",
       "4                 1                  6                      3   \n",
       "\n",
       "   WorkLifeBalance  YearsAtCompany  YearsInCurrentRole  \\\n",
       "0                1               6                   4   \n",
       "1                3              10                   7   \n",
       "2                3               0                   0   \n",
       "3                3               8                   7   \n",
       "4                3               2                   2   \n",
       "\n",
       "   YearsSinceLastPromotion  YearsWithCurrManager  \n",
       "0                        0                     5  \n",
       "1                        1                     7  \n",
       "2                        0                     0  \n",
       "3                        3                     0  \n",
       "4                        2                     2  "
      ]
     },
     "execution_count": 3,
     "metadata": {},
     "output_type": "execute_result"
    }
   ],
   "source": [
    "# lets check the Top 5 Rows of the Dataset\n",
    "\n",
    "pd.set_option('max_columns', 35)\n",
    "data.head()"
   ]
  },
  {
   "cell_type": "code",
   "execution_count": 4,
   "metadata": {},
   "outputs": [
    {
     "name": "stdout",
     "output_type": "stream",
     "text": [
      "Number of Records in the Dataset : 1470\n",
      "Number of Unique Values in Employee Count Column : 1\n",
      "Number of Unique Values in Employee Number Column : 1470\n",
      "Number of Unique Values in Over 18 Column : 1\n",
      "Number of Unique Values in Standard Hours Column : 1\n"
     ]
    }
   ],
   "source": [
    "# Lets find out all the Useless Columns\n",
    "\n",
    "print(\"Number of Records in the Dataset :\", data.shape[0])\n",
    "print(\"Number of Unique Values in Employee Count Column :\", data['EmployeeCount'].nunique())\n",
    "print(\"Number of Unique Values in Employee Number Column :\", data['EmployeeNumber'].nunique())\n",
    "print(\"Number of Unique Values in Over 18 Column :\", data['Over18'].nunique())\n",
    "print(\"Number of Unique Values in Standard Hours Column :\", data['StandardHours'].nunique())"
   ]
  },
  {
   "cell_type": "markdown",
   "metadata": {},
   "source": [
    "* We can see that either these columns has all the values unique such as the Employee Number Column or these Columns has a Unique Value.\n",
    "* These Kinds of Columns are useless for Predictive analysis as they do not have any Trends or Patterns Associated with them.\n",
    "* Lets Drop these Columns from the Dataset"
   ]
  },
  {
   "cell_type": "code",
   "execution_count": 5,
   "metadata": {},
   "outputs": [
    {
     "name": "stdout",
     "output_type": "stream",
     "text": [
      "Number of Columns Left in the Dataset after Removal of 4 Columns : 31\n"
     ]
    }
   ],
   "source": [
    "# Lets remove these Columns from the Dataset\n",
    "\n",
    "data = data.drop(['EmployeeCount', 'EmployeeNumber',\n",
    "                 'Over18', 'StandardHours'], axis = 1)\n",
    "\n",
    "# lets check the Number of Columns after Removal of 4 columns from 35 Columns\n",
    "print(\"Number of Columns Left in the Dataset after Removal of 4 Columns :\", data.shape[1])"
   ]
  },
  {
   "cell_type": "code",
   "execution_count": 6,
   "metadata": {},
   "outputs": [
    {
     "data": {
      "text/plain": [
       "0"
      ]
     },
     "execution_count": 6,
     "metadata": {},
     "output_type": "execute_result"
    }
   ],
   "source": [
    "# Lets check Missing Values\n",
    "data.isnull().sum().sum()"
   ]
  },
  {
   "cell_type": "code",
   "execution_count": 7,
   "metadata": {},
   "outputs": [
    {
     "data": {
      "text/html": [
       "<div>\n",
       "<style scoped>\n",
       "    .dataframe tbody tr th:only-of-type {\n",
       "        vertical-align: middle;\n",
       "    }\n",
       "\n",
       "    .dataframe tbody tr th {\n",
       "        vertical-align: top;\n",
       "    }\n",
       "\n",
       "    .dataframe thead th {\n",
       "        text-align: right;\n",
       "    }\n",
       "</style>\n",
       "<table border=\"1\" class=\"dataframe\">\n",
       "  <thead>\n",
       "    <tr style=\"text-align: right;\">\n",
       "      <th></th>\n",
       "      <th>Attrition</th>\n",
       "      <th>BusinessTravel</th>\n",
       "      <th>Department</th>\n",
       "      <th>EducationField</th>\n",
       "      <th>Gender</th>\n",
       "      <th>JobRole</th>\n",
       "      <th>MaritalStatus</th>\n",
       "      <th>OverTime</th>\n",
       "    </tr>\n",
       "  </thead>\n",
       "  <tbody>\n",
       "    <tr>\n",
       "      <th>0</th>\n",
       "      <td>Yes</td>\n",
       "      <td>Travel_Rarely</td>\n",
       "      <td>Sales</td>\n",
       "      <td>Life Sciences</td>\n",
       "      <td>Female</td>\n",
       "      <td>Sales Executive</td>\n",
       "      <td>Single</td>\n",
       "      <td>Yes</td>\n",
       "    </tr>\n",
       "    <tr>\n",
       "      <th>1</th>\n",
       "      <td>No</td>\n",
       "      <td>Travel_Frequently</td>\n",
       "      <td>Research &amp; Development</td>\n",
       "      <td>Life Sciences</td>\n",
       "      <td>Male</td>\n",
       "      <td>Research Scientist</td>\n",
       "      <td>Married</td>\n",
       "      <td>No</td>\n",
       "    </tr>\n",
       "    <tr>\n",
       "      <th>2</th>\n",
       "      <td>Yes</td>\n",
       "      <td>Travel_Rarely</td>\n",
       "      <td>Research &amp; Development</td>\n",
       "      <td>Other</td>\n",
       "      <td>Male</td>\n",
       "      <td>Laboratory Technician</td>\n",
       "      <td>Single</td>\n",
       "      <td>Yes</td>\n",
       "    </tr>\n",
       "  </tbody>\n",
       "</table>\n",
       "</div>"
      ],
      "text/plain": [
       "  Attrition     BusinessTravel              Department EducationField  Gender  \\\n",
       "0       Yes      Travel_Rarely                   Sales  Life Sciences  Female   \n",
       "1        No  Travel_Frequently  Research & Development  Life Sciences    Male   \n",
       "2       Yes      Travel_Rarely  Research & Development          Other    Male   \n",
       "\n",
       "                 JobRole MaritalStatus OverTime  \n",
       "0        Sales Executive        Single      Yes  \n",
       "1     Research Scientist       Married       No  \n",
       "2  Laboratory Technician        Single      Yes  "
      ]
     },
     "execution_count": 7,
     "metadata": {},
     "output_type": "execute_result"
    }
   ],
   "source": [
    "# Lets check the Columns with Object Data Types\n",
    "data.select_dtypes('object').head(3)"
   ]
  },
  {
   "cell_type": "code",
   "execution_count": 8,
   "metadata": {},
   "outputs": [
    {
     "data": {
      "text/plain": [
       "Index(['Attrition'], dtype='object')"
      ]
     },
     "execution_count": 8,
     "metadata": {},
     "output_type": "execute_result"
    }
   ],
   "source": [
    "# Lets Encode these Object Data Types as Numerical Data Types\n",
    "\n",
    "from sklearn.preprocessing import LabelEncoder\n",
    "\n",
    "le = LabelEncoder()\n",
    "data['BusinessTravel'] = le.fit_transform(data['BusinessTravel'])\n",
    "data['Department'] = le.fit_transform(data['Department'])\n",
    "data['EducationField'] = le.fit_transform(data['EducationField'])\n",
    "data['Gender'] = le.fit_transform(data['Gender'])\n",
    "data['JobRole'] = le.fit_transform(data['JobRole'])\n",
    "data['MaritalStatus'] = le.fit_transform(data['MaritalStatus'])\n",
    "data['OverTime'] = le.fit_transform(data['OverTime'])\n",
    "\n",
    "# lets again check whether there any Object Data Type Columns are Left\n",
    "data.select_dtypes('object').columns"
   ]
  },
  {
   "cell_type": "code",
   "execution_count": 9,
   "metadata": {},
   "outputs": [
    {
     "name": "stdout",
     "output_type": "stream",
     "text": [
      "Shape of x:  (1470, 30)\n",
      "Shape of y:  (1470,)\n"
     ]
    }
   ],
   "source": [
    "# lets split the Target Column Attrition from the Dataset\n",
    "\n",
    "y = data['Attrition']\n",
    "x = data.drop(['Attrition'], axis = 1)\n",
    "\n",
    "# lets check the shape of the dataset\n",
    "print(\"Shape of x: \", x.shape)\n",
    "print(\"Shape of y: \", y.shape)"
   ]
  },
  {
   "cell_type": "code",
   "execution_count": 10,
   "metadata": {},
   "outputs": [
    {
     "data": {
      "text/plain": [
       "No     1233\n",
       "Yes     237\n",
       "Name: Attrition, dtype: int64"
      ]
     },
     "execution_count": 10,
     "metadata": {},
     "output_type": "execute_result"
    }
   ],
   "source": [
    "## Lets Check the Attrition Column\n",
    "data['Attrition'].value_counts()"
   ]
  },
  {
   "cell_type": "code",
   "execution_count": 19,
   "metadata": {},
   "outputs": [
    {
     "data": {
      "text/plain": [
       "Yes    809\n",
       "No     807\n",
       "Name: Attrition, dtype: int64"
      ]
     },
     "execution_count": 19,
     "metadata": {},
     "output_type": "execute_result"
    }
   ],
   "source": [
    "from imblearn.combine import SMOTEENN\n",
    "\n",
    "# defining the Model\n",
    "sn = SMOTEENN(random_state = 0)\n",
    "\n",
    "# Training the Model\n",
    "sn.fit(x, y)\n",
    "\n",
    "# Making the Samples\n",
    "x, y = sn.fit_resample(x, y)\n",
    "\n",
    "# Class Distribution\n",
    "y.value_counts()"
   ]
  },
  {
   "cell_type": "code",
   "execution_count": 22,
   "metadata": {},
   "outputs": [
    {
     "name": "stdout",
     "output_type": "stream",
     "text": [
      "Shape of xtrain:  (1292, 30)\n",
      "Shape of xtest:  (324, 30)\n",
      "Shape of ytrain : (1292,)\n",
      "Shape of ytest : (324,)\n"
     ]
    }
   ],
   "source": [
    "from sklearn.model_selection import train_test_split\n",
    "\n",
    "x_train, x_test, y_train, y_test = train_test_split(x, y, test_size = 0.2, random_state = 0)\n",
    "\n",
    "print(\"Shape of xtrain: \", x_train.shape)\n",
    "print(\"Shape of xtest: \", x_test.shape)\n",
    "print(\"Shape of ytrain :\", y_train.shape)\n",
    "print(\"Shape of ytest :\", y_test.shape)"
   ]
  },
  {
   "cell_type": "code",
   "execution_count": 25,
   "metadata": {},
   "outputs": [
    {
     "name": "stdout",
     "output_type": "stream",
     "text": [
      "              precision    recall  f1-score   support\n",
      "\n",
      "          No       0.87      0.89      0.88       156\n",
      "         Yes       0.90      0.88      0.89       168\n",
      "\n",
      "    accuracy                           0.88       324\n",
      "   macro avg       0.88      0.88      0.88       324\n",
      "weighted avg       0.88      0.88      0.88       324\n",
      "\n"
     ]
    }
   ],
   "source": [
    "# Lets create a Predictive Model\n",
    "\n",
    "from sklearn.tree import DecisionTreeClassifier\n",
    "from sklearn.metrics import classification_report\n",
    "\n",
    "model = DecisionTreeClassifier()\n",
    "model.fit(x_train, y_train)\n",
    "y_pred = model.predict(x_test)\n",
    "\n",
    "cr = classification_report(y_pred, y_test)\n",
    "print(cr)"
   ]
  },
  {
   "cell_type": "markdown",
   "metadata": {},
   "source": [
    "### Correlation Filtering\n",
    "\n",
    "* Remove Highly Correlated Features from the Data"
   ]
  },
  {
   "cell_type": "code",
   "execution_count": 26,
   "metadata": {},
   "outputs": [
    {
     "data": {
      "image/png": "[encoded data removed]",
      "text/plain": [
       "<Figure size 1080x720 with 2 Axes>"
      ]
     },
     "metadata": {},
     "output_type": "display_data"
    }
   ],
   "source": [
    "plt.rcParams['figure.figsize'] = (15, 10)\n",
    "plt.style.use('fivethirtyeight')\n",
    "\n",
    "corr = data.corr()\n",
    "mask = np.triu(np.ones_like(corr, dtype = bool))\n",
    "sns.heatmap(corr, mask = mask, cmap = 'Wistia', linewidths = 0.2)\n",
    "plt.xticks(fontsize = 10)\n",
    "plt.yticks(fontsize = 10)\n",
    "plt.show()"
   ]
  },
  {
   "cell_type": "markdown",
   "metadata": {},
   "source": [
    "* Age is Highly Correlated with Job Level, Monthly Income, and TotalWorking Years \n",
    "* Job Role and Department are Highly Correlated\n",
    "* Job Level is Highly Correlated with TotalWorkingyears and MonthlyIncome\n",
    "* Performance Rating and PercentSalaryHike are Highly Correlated\n",
    "* YearsInCurrentRole is Highly Correlated with YearsAtCompany and YearsWithCurrManager"
   ]
  },
  {
   "cell_type": "code",
   "execution_count": 27,
   "metadata": {},
   "outputs": [
    {
     "data": {
      "text/plain": [
       "(1470, 25)"
      ]
     },
     "execution_count": 27,
     "metadata": {},
     "output_type": "execute_result"
    }
   ],
   "source": [
    "# Lets Remove the Highly Correlated Columns from the Datasets\n",
    "\n",
    "data_cf = data.drop(['JobRole', 'JobLevel', 'PercentSalaryHike', 'TotalWorkingYears',\n",
    "                     'YearsInCurrentRole', 'YearsWithCurrManager'], axis = 1)\n",
    "\n",
    "# lets check the shape of the dataset after removal of 5 Columns from 35 Columns\n",
    "data_cf.shape"
   ]
  },
  {
   "cell_type": "code",
   "execution_count": 28,
   "metadata": {},
   "outputs": [
    {
     "data": {
      "text/plain": [
       "Index(['Attrition'], dtype='object')"
      ]
     },
     "execution_count": 28,
     "metadata": {},
     "output_type": "execute_result"
    }
   ],
   "source": [
    "# Lets Encode these Object Data Types as Numerical Data Types\n",
    "\n",
    "from sklearn.preprocessing import LabelEncoder\n",
    "\n",
    "le = LabelEncoder()\n",
    "data_cf['BusinessTravel'] = le.fit_transform(data_cf['BusinessTravel'])\n",
    "data_cf['Department'] = le.fit_transform(data_cf['Department'])\n",
    "data_cf['EducationField'] = le.fit_transform(data_cf['EducationField'])\n",
    "data_cf['Gender'] = le.fit_transform(data_cf['Gender'])\n",
    "data_cf['MaritalStatus'] = le.fit_transform(data_cf['MaritalStatus'])\n",
    "data_cf['OverTime'] = le.fit_transform(data_cf['OverTime'])\n",
    "\n",
    "# lets again check whether there any Object Data Type Columns are Left\n",
    "data_cf.select_dtypes('object').columns"
   ]
  },
  {
   "cell_type": "code",
   "execution_count": 29,
   "metadata": {},
   "outputs": [],
   "source": [
    "# Now, Split the Dataset\n",
    "\n",
    "y_cf = data_cf['Attrition']\n",
    "x_cf = data_cf.drop(['Attrition'], axis = 1)"
   ]
  },
  {
   "cell_type": "code",
   "execution_count": 32,
   "metadata": {},
   "outputs": [
    {
     "data": {
      "text/plain": [
       "Yes    838\n",
       "No     641\n",
       "Name: Attrition, dtype: int64"
      ]
     },
     "execution_count": 32,
     "metadata": {},
     "output_type": "execute_result"
    }
   ],
   "source": [
    "from imblearn.combine import SMOTEENN\n",
    "\n",
    "# defining the Model\n",
    "sn = SMOTEENN(random_state = 0)\n",
    "\n",
    "# Training the Model\n",
    "sn.fit(x_cf, y_cf)\n",
    "\n",
    "# Making the Samples\n",
    "x_cf, y_cf = sn.fit_resample(x_cf, y_cf)\n",
    "\n",
    "# Class Distribution\n",
    "y_cf.value_counts()"
   ]
  },
  {
   "cell_type": "code",
   "execution_count": 33,
   "metadata": {},
   "outputs": [
    {
     "name": "stdout",
     "output_type": "stream",
     "text": [
      "Shape of xtrain:  (1183, 24)\n",
      "Shape of xtest:  (296, 24)\n",
      "Shape of ytrain : (1183,)\n",
      "Shape of ytest : (296,)\n"
     ]
    }
   ],
   "source": [
    "from sklearn.model_selection import train_test_split\n",
    "\n",
    "x_train_cf, x_test_cf, y_train_cf, y_test_cf = train_test_split(x_cf, y_cf, test_size = 0.2, random_state = 0)\n",
    "\n",
    "print(\"Shape of xtrain: \", x_train_cf.shape)\n",
    "print(\"Shape of xtest: \", x_test_cf.shape)\n",
    "print(\"Shape of ytrain :\", y_train_cf.shape)\n",
    "print(\"Shape of ytest :\", y_test_cf.shape)"
   ]
  },
  {
   "cell_type": "code",
   "execution_count": 34,
   "metadata": {},
   "outputs": [
    {
     "name": "stdout",
     "output_type": "stream",
     "text": [
      "              precision    recall  f1-score   support\n",
      "\n",
      "          No       0.74      0.87      0.80       115\n",
      "         Yes       0.91      0.80      0.85       181\n",
      "\n",
      "    accuracy                           0.83       296\n",
      "   macro avg       0.82      0.84      0.82       296\n",
      "weighted avg       0.84      0.83      0.83       296\n",
      "\n"
     ]
    }
   ],
   "source": [
    "# Lets create a Predictive Model\n",
    "\n",
    "from sklearn.tree import DecisionTreeClassifier\n",
    "from sklearn.metrics import classification_report\n",
    "\n",
    "model = DecisionTreeClassifier()\n",
    "model.fit(x_train_cf, y_train_cf)\n",
    "y_pred_cf = model.predict(x_test_cf)\n",
    "\n",
    "cr = classification_report(y_pred_cf, y_test_cf)\n",
    "print(cr)"
   ]
  },
  {
   "cell_type": "markdown",
   "metadata": {},
   "source": [
    "### Variance Inflation Filtering\n",
    "\n",
    "* Remove all the Features having High Variance\n",
    "* VIF above 5 indicates a high multicollinearity. "
   ]
  },
  {
   "cell_type": "code",
   "execution_count": 35,
   "metadata": {},
   "outputs": [
    {
     "data": {
      "text/html": [
       "<style  type=\"text/css\" >\n",
       "#T_b2abf4e1_75d4_11ec_991c_18c04d32f8c9row0_col1{\n",
       "            background-color:  #ffd810;\n",
       "            color:  #000000;\n",
       "        }#T_b2abf4e1_75d4_11ec_991c_18c04d32f8c9row1_col1,#T_b2abf4e1_75d4_11ec_991c_18c04d32f8c9row13_col1,#T_b2abf4e1_75d4_11ec_991c_18c04d32f8c9row27_col1{\n",
       "            background-color:  #e9fb68;\n",
       "            color:  #000000;\n",
       "        }#T_b2abf4e1_75d4_11ec_991c_18c04d32f8c9row2_col1,#T_b2abf4e1_75d4_11ec_991c_18c04d32f8c9row24_col1{\n",
       "            background-color:  #e8fb6b;\n",
       "            color:  #000000;\n",
       "        }#T_b2abf4e1_75d4_11ec_991c_18c04d32f8c9row3_col1,#T_b2abf4e1_75d4_11ec_991c_18c04d32f8c9row26_col1{\n",
       "            background-color:  #edf75a;\n",
       "            color:  #000000;\n",
       "        }#T_b2abf4e1_75d4_11ec_991c_18c04d32f8c9row4_col1,#T_b2abf4e1_75d4_11ec_991c_18c04d32f8c9row17_col1{\n",
       "            background-color:  #e5fe75;\n",
       "            color:  #000000;\n",
       "        }#T_b2abf4e1_75d4_11ec_991c_18c04d32f8c9row5_col1{\n",
       "            background-color:  #ecf85c;\n",
       "            color:  #000000;\n",
       "        }#T_b2abf4e1_75d4_11ec_991c_18c04d32f8c9row6_col1{\n",
       "            background-color:  #e7fd71;\n",
       "            color:  #000000;\n",
       "        }#T_b2abf4e1_75d4_11ec_991c_18c04d32f8c9row7_col1,#T_b2abf4e1_75d4_11ec_991c_18c04d32f8c9row12_col1,#T_b2abf4e1_75d4_11ec_991c_18c04d32f8c9row29_col1{\n",
       "            background-color:  #eafa66;\n",
       "            color:  #000000;\n",
       "        }#T_b2abf4e1_75d4_11ec_991c_18c04d32f8c9row8_col1,#T_b2abf4e1_75d4_11ec_991c_18c04d32f8c9row22_col1{\n",
       "            background-color:  #e4ff78;\n",
       "            color:  #000000;\n",
       "        }#T_b2abf4e1_75d4_11ec_991c_18c04d32f8c9row9_col1{\n",
       "            background-color:  #f0f54e;\n",
       "            color:  #000000;\n",
       "        }#T_b2abf4e1_75d4_11ec_991c_18c04d32f8c9row10_col1{\n",
       "            background-color:  #f1f44d;\n",
       "            color:  #000000;\n",
       "        }#T_b2abf4e1_75d4_11ec_991c_18c04d32f8c9row11_col1{\n",
       "            background-color:  #ffc102;\n",
       "            color:  #000000;\n",
       "        }#T_b2abf4e1_75d4_11ec_991c_18c04d32f8c9row14_col1{\n",
       "            background-color:  #e7fc6e;\n",
       "            color:  #000000;\n",
       "        }#T_b2abf4e1_75d4_11ec_991c_18c04d32f8c9row15_col1{\n",
       "            background-color:  #ffdf15;\n",
       "            color:  #000000;\n",
       "        }#T_b2abf4e1_75d4_11ec_991c_18c04d32f8c9row16_col1{\n",
       "            background-color:  #e8fc6c;\n",
       "            color:  #000000;\n",
       "        }#T_b2abf4e1_75d4_11ec_991c_18c04d32f8c9row18_col1{\n",
       "            background-color:  #e4ff7a;\n",
       "            color:  #000000;\n",
       "        }#T_b2abf4e1_75d4_11ec_991c_18c04d32f8c9row19_col1{\n",
       "            background-color:  #ffe217;\n",
       "            color:  #000000;\n",
       "        }#T_b2abf4e1_75d4_11ec_991c_18c04d32f8c9row20_col1{\n",
       "            background-color:  #fc7f00;\n",
       "            color:  #000000;\n",
       "        }#T_b2abf4e1_75d4_11ec_991c_18c04d32f8c9row21_col1{\n",
       "            background-color:  #eafa65;\n",
       "            color:  #000000;\n",
       "        }#T_b2abf4e1_75d4_11ec_991c_18c04d32f8c9row23_col1{\n",
       "            background-color:  #f2f348;\n",
       "            color:  #000000;\n",
       "        }#T_b2abf4e1_75d4_11ec_991c_18c04d32f8c9row25_col1{\n",
       "            background-color:  #f1f44b;\n",
       "            color:  #000000;\n",
       "        }#T_b2abf4e1_75d4_11ec_991c_18c04d32f8c9row28_col1{\n",
       "            background-color:  #e5fe77;\n",
       "            color:  #000000;\n",
       "        }</style><table id=\"T_b2abf4e1_75d4_11ec_991c_18c04d32f8c9\" ><thead>    <tr>        <th class=\"blank level0\" ></th>        <th class=\"col_heading level0 col0\" >feature</th>        <th class=\"col_heading level0 col1\" >VIF</th>    </tr></thead><tbody>\n",
       "                <tr>\n",
       "                        <th id=\"T_b2abf4e1_75d4_11ec_991c_18c04d32f8c9level0_row0\" class=\"row_heading level0 row0\" >0</th>\n",
       "                        <td id=\"T_b2abf4e1_75d4_11ec_991c_18c04d32f8c9row0_col0\" class=\"data row0 col0\" >Age</td>\n",
       "                        <td id=\"T_b2abf4e1_75d4_11ec_991c_18c04d32f8c9row0_col1\" class=\"data row0 col1\" >38.773522</td>\n",
       "            </tr>\n",
       "            <tr>\n",
       "                        <th id=\"T_b2abf4e1_75d4_11ec_991c_18c04d32f8c9level0_row1\" class=\"row_heading level0 row1\" >1</th>\n",
       "                        <td id=\"T_b2abf4e1_75d4_11ec_991c_18c04d32f8c9row1_col0\" class=\"data row1 col0\" >BusinessTravel</td>\n",
       "                        <td id=\"T_b2abf4e1_75d4_11ec_991c_18c04d32f8c9row1_col1\" class=\"data row1 col1\" >6.798032</td>\n",
       "            </tr>\n",
       "            <tr>\n",
       "                        <th id=\"T_b2abf4e1_75d4_11ec_991c_18c04d32f8c9level0_row2\" class=\"row_heading level0 row2\" >2</th>\n",
       "                        <td id=\"T_b2abf4e1_75d4_11ec_991c_18c04d32f8c9row2_col0\" class=\"data row2 col0\" >DailyRate</td>\n",
       "                        <td id=\"T_b2abf4e1_75d4_11ec_991c_18c04d32f8c9row2_col1\" class=\"data row2 col1\" >5.766591</td>\n",
       "            </tr>\n",
       "            <tr>\n",
       "                        <th id=\"T_b2abf4e1_75d4_11ec_991c_18c04d32f8c9level0_row3\" class=\"row_heading level0 row3\" >3</th>\n",
       "                        <td id=\"T_b2abf4e1_75d4_11ec_991c_18c04d32f8c9row3_col0\" class=\"data row3 col0\" >Department</td>\n",
       "                        <td id=\"T_b2abf4e1_75d4_11ec_991c_18c04d32f8c9row3_col1\" class=\"data row3 col1\" >10.516928</td>\n",
       "            </tr>\n",
       "            <tr>\n",
       "                        <th id=\"T_b2abf4e1_75d4_11ec_991c_18c04d32f8c9level0_row4\" class=\"row_heading level0 row4\" >4</th>\n",
       "                        <td id=\"T_b2abf4e1_75d4_11ec_991c_18c04d32f8c9row4_col0\" class=\"data row4 col0\" >DistanceFromHome</td>\n",
       "                        <td id=\"T_b2abf4e1_75d4_11ec_991c_18c04d32f8c9row4_col1\" class=\"data row4 col1\" >2.757965</td>\n",
       "            </tr>\n",
       "            <tr>\n",
       "                        <th id=\"T_b2abf4e1_75d4_11ec_991c_18c04d32f8c9level0_row5\" class=\"row_heading level0 row5\" >5</th>\n",
       "                        <td id=\"T_b2abf4e1_75d4_11ec_991c_18c04d32f8c9row5_col0\" class=\"data row5 col0\" >Education</td>\n",
       "                        <td id=\"T_b2abf4e1_75d4_11ec_991c_18c04d32f8c9row5_col1\" class=\"data row5 col1\" >10.111642</td>\n",
       "            </tr>\n",
       "            <tr>\n",
       "                        <th id=\"T_b2abf4e1_75d4_11ec_991c_18c04d32f8c9level0_row6\" class=\"row_heading level0 row6\" >6</th>\n",
       "                        <td id=\"T_b2abf4e1_75d4_11ec_991c_18c04d32f8c9row6_col0\" class=\"data row6 col0\" >EducationField</td>\n",
       "                        <td id=\"T_b2abf4e1_75d4_11ec_991c_18c04d32f8c9row6_col1\" class=\"data row6 col1\" >4.031612</td>\n",
       "            </tr>\n",
       "            <tr>\n",
       "                        <th id=\"T_b2abf4e1_75d4_11ec_991c_18c04d32f8c9level0_row7\" class=\"row_heading level0 row7\" >7</th>\n",
       "                        <td id=\"T_b2abf4e1_75d4_11ec_991c_18c04d32f8c9row7_col0\" class=\"data row7 col0\" >EnvironmentSatisfaction</td>\n",
       "                        <td id=\"T_b2abf4e1_75d4_11ec_991c_18c04d32f8c9row7_col1\" class=\"data row7 col1\" >7.329485</td>\n",
       "            </tr>\n",
       "            <tr>\n",
       "                        <th id=\"T_b2abf4e1_75d4_11ec_991c_18c04d32f8c9level0_row8\" class=\"row_heading level0 row8\" >8</th>\n",
       "                        <td id=\"T_b2abf4e1_75d4_11ec_991c_18c04d32f8c9row8_col0\" class=\"data row8 col0\" >Gender</td>\n",
       "                        <td id=\"T_b2abf4e1_75d4_11ec_991c_18c04d32f8c9row8_col1\" class=\"data row8 col1\" >2.068395</td>\n",
       "            </tr>\n",
       "            <tr>\n",
       "                        <th id=\"T_b2abf4e1_75d4_11ec_991c_18c04d32f8c9level0_row9\" class=\"row_heading level0 row9\" >9</th>\n",
       "                        <td id=\"T_b2abf4e1_75d4_11ec_991c_18c04d32f8c9row9_col0\" class=\"data row9 col0\" >HourlyRate</td>\n",
       "                        <td id=\"T_b2abf4e1_75d4_11ec_991c_18c04d32f8c9row9_col1\" class=\"data row9 col1\" >14.132642</td>\n",
       "            </tr>\n",
       "            <tr>\n",
       "                        <th id=\"T_b2abf4e1_75d4_11ec_991c_18c04d32f8c9level0_row10\" class=\"row_heading level0 row10\" >10</th>\n",
       "                        <td id=\"T_b2abf4e1_75d4_11ec_991c_18c04d32f8c9row10_col0\" class=\"data row10 col0\" >JobInvolvement</td>\n",
       "                        <td id=\"T_b2abf4e1_75d4_11ec_991c_18c04d32f8c9row10_col1\" class=\"data row10 col1\" >14.467531</td>\n",
       "            </tr>\n",
       "            <tr>\n",
       "                        <th id=\"T_b2abf4e1_75d4_11ec_991c_18c04d32f8c9level0_row11\" class=\"row_heading level0 row11\" >11</th>\n",
       "                        <td id=\"T_b2abf4e1_75d4_11ec_991c_18c04d32f8c9row11_col0\" class=\"data row11 col0\" >JobLevel</td>\n",
       "                        <td id=\"T_b2abf4e1_75d4_11ec_991c_18c04d32f8c9row11_col1\" class=\"data row11 col1\" >53.384819</td>\n",
       "            </tr>\n",
       "            <tr>\n",
       "                        <th id=\"T_b2abf4e1_75d4_11ec_991c_18c04d32f8c9level0_row12\" class=\"row_heading level0 row12\" >12</th>\n",
       "                        <td id=\"T_b2abf4e1_75d4_11ec_991c_18c04d32f8c9row12_col0\" class=\"data row12 col0\" >JobRole</td>\n",
       "                        <td id=\"T_b2abf4e1_75d4_11ec_991c_18c04d32f8c9row12_col1\" class=\"data row12 col1\" >7.400046</td>\n",
       "            </tr>\n",
       "            <tr>\n",
       "                        <th id=\"T_b2abf4e1_75d4_11ec_991c_18c04d32f8c9level0_row13\" class=\"row_heading level0 row13\" >13</th>\n",
       "                        <td id=\"T_b2abf4e1_75d4_11ec_991c_18c04d32f8c9row13_col0\" class=\"data row13 col0\" >JobSatisfaction</td>\n",
       "                        <td id=\"T_b2abf4e1_75d4_11ec_991c_18c04d32f8c9row13_col1\" class=\"data row13 col1\" >6.582090</td>\n",
       "            </tr>\n",
       "            <tr>\n",
       "                        <th id=\"T_b2abf4e1_75d4_11ec_991c_18c04d32f8c9level0_row14\" class=\"row_heading level0 row14\" >14</th>\n",
       "                        <td id=\"T_b2abf4e1_75d4_11ec_991c_18c04d32f8c9row14_col0\" class=\"data row14 col0\" >MaritalStatus</td>\n",
       "                        <td id=\"T_b2abf4e1_75d4_11ec_991c_18c04d32f8c9row14_col1\" class=\"data row14 col1\" >5.241675</td>\n",
       "            </tr>\n",
       "            <tr>\n",
       "                        <th id=\"T_b2abf4e1_75d4_11ec_991c_18c04d32f8c9level0_row15\" class=\"row_heading level0 row15\" >15</th>\n",
       "                        <td id=\"T_b2abf4e1_75d4_11ec_991c_18c04d32f8c9row15_col0\" class=\"data row15 col0\" >MonthlyIncome</td>\n",
       "                        <td id=\"T_b2abf4e1_75d4_11ec_991c_18c04d32f8c9row15_col1\" class=\"data row15 col1\" >34.194294</td>\n",
       "            </tr>\n",
       "            <tr>\n",
       "                        <th id=\"T_b2abf4e1_75d4_11ec_991c_18c04d32f8c9level0_row16\" class=\"row_heading level0 row16\" >16</th>\n",
       "                        <td id=\"T_b2abf4e1_75d4_11ec_991c_18c04d32f8c9row16_col0\" class=\"data row16 col0\" >MonthlyRate</td>\n",
       "                        <td id=\"T_b2abf4e1_75d4_11ec_991c_18c04d32f8c9row16_col1\" class=\"data row16 col1\" >5.551716</td>\n",
       "            </tr>\n",
       "            <tr>\n",
       "                        <th id=\"T_b2abf4e1_75d4_11ec_991c_18c04d32f8c9level0_row17\" class=\"row_heading level0 row17\" >17</th>\n",
       "                        <td id=\"T_b2abf4e1_75d4_11ec_991c_18c04d32f8c9row17_col0\" class=\"data row17 col0\" >NumCompaniesWorked</td>\n",
       "                        <td id=\"T_b2abf4e1_75d4_11ec_991c_18c04d32f8c9row17_col1\" class=\"data row17 col1\" >3.054937</td>\n",
       "            </tr>\n",
       "            <tr>\n",
       "                        <th id=\"T_b2abf4e1_75d4_11ec_991c_18c04d32f8c9level0_row18\" class=\"row_heading level0 row18\" >18</th>\n",
       "                        <td id=\"T_b2abf4e1_75d4_11ec_991c_18c04d32f8c9row18_col0\" class=\"data row18 col0\" >OverTime</td>\n",
       "                        <td id=\"T_b2abf4e1_75d4_11ec_991c_18c04d32f8c9row18_col1\" class=\"data row18 col1\" >1.490081</td>\n",
       "            </tr>\n",
       "            <tr>\n",
       "                        <th id=\"T_b2abf4e1_75d4_11ec_991c_18c04d32f8c9level0_row19\" class=\"row_heading level0 row19\" >19</th>\n",
       "                        <td id=\"T_b2abf4e1_75d4_11ec_991c_18c04d32f8c9row19_col0\" class=\"data row19 col0\" >PercentSalaryHike</td>\n",
       "                        <td id=\"T_b2abf4e1_75d4_11ec_991c_18c04d32f8c9row19_col1\" class=\"data row19 col1\" >32.095969</td>\n",
       "            </tr>\n",
       "            <tr>\n",
       "                        <th id=\"T_b2abf4e1_75d4_11ec_991c_18c04d32f8c9level0_row20\" class=\"row_heading level0 row20\" >20</th>\n",
       "                        <td id=\"T_b2abf4e1_75d4_11ec_991c_18c04d32f8c9row20_col0\" class=\"data row20 col0\" >PerformanceRating</td>\n",
       "                        <td id=\"T_b2abf4e1_75d4_11ec_991c_18c04d32f8c9row20_col1\" class=\"data row20 col1\" >109.655585</td>\n",
       "            </tr>\n",
       "            <tr>\n",
       "                        <th id=\"T_b2abf4e1_75d4_11ec_991c_18c04d32f8c9level0_row21\" class=\"row_heading level0 row21\" >21</th>\n",
       "                        <td id=\"T_b2abf4e1_75d4_11ec_991c_18c04d32f8c9row21_col0\" class=\"data row21 col0\" >RelationshipSatisfaction</td>\n",
       "                        <td id=\"T_b2abf4e1_75d4_11ec_991c_18c04d32f8c9row21_col1\" class=\"data row21 col1\" >7.458364</td>\n",
       "            </tr>\n",
       "            <tr>\n",
       "                        <th id=\"T_b2abf4e1_75d4_11ec_991c_18c04d32f8c9level0_row22\" class=\"row_heading level0 row22\" >22</th>\n",
       "                        <td id=\"T_b2abf4e1_75d4_11ec_991c_18c04d32f8c9row22_col0\" class=\"data row22 col0\" >StockOptionLevel</td>\n",
       "                        <td id=\"T_b2abf4e1_75d4_11ec_991c_18c04d32f8c9row22_col1\" class=\"data row22 col1\" >2.191927</td>\n",
       "            </tr>\n",
       "            <tr>\n",
       "                        <th id=\"T_b2abf4e1_75d4_11ec_991c_18c04d32f8c9level0_row23\" class=\"row_heading level0 row23\" >23</th>\n",
       "                        <td id=\"T_b2abf4e1_75d4_11ec_991c_18c04d32f8c9row23_col0\" class=\"data row23 col0\" >TotalWorkingYears</td>\n",
       "                        <td id=\"T_b2abf4e1_75d4_11ec_991c_18c04d32f8c9row23_col1\" class=\"data row23 col1\" >15.551913</td>\n",
       "            </tr>\n",
       "            <tr>\n",
       "                        <th id=\"T_b2abf4e1_75d4_11ec_991c_18c04d32f8c9level0_row24\" class=\"row_heading level0 row24\" >24</th>\n",
       "                        <td id=\"T_b2abf4e1_75d4_11ec_991c_18c04d32f8c9row24_col0\" class=\"data row24 col0\" >TrainingTimesLastYear</td>\n",
       "                        <td id=\"T_b2abf4e1_75d4_11ec_991c_18c04d32f8c9row24_col1\" class=\"data row24 col1\" >6.124738</td>\n",
       "            </tr>\n",
       "            <tr>\n",
       "                        <th id=\"T_b2abf4e1_75d4_11ec_991c_18c04d32f8c9level0_row25\" class=\"row_heading level0 row25\" >25</th>\n",
       "                        <td id=\"T_b2abf4e1_75d4_11ec_991c_18c04d32f8c9row25_col0\" class=\"data row25 col0\" >WorkLifeBalance</td>\n",
       "                        <td id=\"T_b2abf4e1_75d4_11ec_991c_18c04d32f8c9row25_col1\" class=\"data row25 col1\" >14.885992</td>\n",
       "            </tr>\n",
       "            <tr>\n",
       "                        <th id=\"T_b2abf4e1_75d4_11ec_991c_18c04d32f8c9level0_row26\" class=\"row_heading level0 row26\" >26</th>\n",
       "                        <td id=\"T_b2abf4e1_75d4_11ec_991c_18c04d32f8c9row26_col0\" class=\"data row26 col0\" >YearsAtCompany</td>\n",
       "                        <td id=\"T_b2abf4e1_75d4_11ec_991c_18c04d32f8c9row26_col1\" class=\"data row26 col1\" >10.568434</td>\n",
       "            </tr>\n",
       "            <tr>\n",
       "                        <th id=\"T_b2abf4e1_75d4_11ec_991c_18c04d32f8c9level0_row27\" class=\"row_heading level0 row27\" >27</th>\n",
       "                        <td id=\"T_b2abf4e1_75d4_11ec_991c_18c04d32f8c9row27_col0\" class=\"data row27 col0\" >YearsInCurrentRole</td>\n",
       "                        <td id=\"T_b2abf4e1_75d4_11ec_991c_18c04d32f8c9row27_col1\" class=\"data row27 col1\" >6.863538</td>\n",
       "            </tr>\n",
       "            <tr>\n",
       "                        <th id=\"T_b2abf4e1_75d4_11ec_991c_18c04d32f8c9level0_row28\" class=\"row_heading level0 row28\" >28</th>\n",
       "                        <td id=\"T_b2abf4e1_75d4_11ec_991c_18c04d32f8c9row28_col0\" class=\"data row28 col0\" >YearsSinceLastPromotion</td>\n",
       "                        <td id=\"T_b2abf4e1_75d4_11ec_991c_18c04d32f8c9row28_col1\" class=\"data row28 col1\" >2.631795</td>\n",
       "            </tr>\n",
       "            <tr>\n",
       "                        <th id=\"T_b2abf4e1_75d4_11ec_991c_18c04d32f8c9level0_row29\" class=\"row_heading level0 row29\" >29</th>\n",
       "                        <td id=\"T_b2abf4e1_75d4_11ec_991c_18c04d32f8c9row29_col0\" class=\"data row29 col0\" >YearsWithCurrManager</td>\n",
       "                        <td id=\"T_b2abf4e1_75d4_11ec_991c_18c04d32f8c9row29_col1\" class=\"data row29 col1\" >7.314118</td>\n",
       "            </tr>\n",
       "    </tbody></table>"
      ],
      "text/plain": [
       "<pandas.io.formats.style.Styler at 0x2ea20f5bcd0>"
      ]
     },
     "execution_count": 35,
     "metadata": {},
     "output_type": "execute_result"
    }
   ],
   "source": [
    "from statsmodels.stats.outliers_influence import variance_inflation_factor \n",
    "\n",
    "# VIF dataframe \n",
    "vif_data = pd.DataFrame() \n",
    "vif_data[\"feature\"] = x.columns \n",
    "  \n",
    "# calculating VIF for each feature \n",
    "vif_data[\"VIF\"] = [variance_inflation_factor(x.values, i) \n",
    "                          for i in range(len(x.columns))] \n",
    "  \n",
    "vif_data.style.background_gradient(cmap = 'Wistia')"
   ]
  },
  {
   "cell_type": "code",
   "execution_count": 36,
   "metadata": {},
   "outputs": [],
   "source": [
    "# lets create the Dependent and Non Dependent Sets\n",
    "x_vif = data[['DistanceFromHome', 'EducationField', 'Gender', 'NumCompaniesWorked','OverTime',\n",
    "           'StockOptionLevel','YearsSinceLastPromotion']]\n",
    "y_vif = data['Attrition']"
   ]
  },
  {
   "cell_type": "code",
   "execution_count": 37,
   "metadata": {},
   "outputs": [
    {
     "data": {
      "text/plain": [
       "Yes    813\n",
       "No     579\n",
       "Name: Attrition, dtype: int64"
      ]
     },
     "execution_count": 37,
     "metadata": {},
     "output_type": "execute_result"
    }
   ],
   "source": [
    "from imblearn.combine import SMOTEENN\n",
    "\n",
    "# defining the Model\n",
    "sn = SMOTEENN(random_state = 0)\n",
    "\n",
    "# Training the Model\n",
    "sn.fit(x_vif, y_vif)\n",
    "\n",
    "# Making the Samples\n",
    "x_vif, y_vif = sn.fit_resample(x_vif, y_vif)\n",
    "\n",
    "# Class Distribution\n",
    "y_vif.value_counts()"
   ]
  },
  {
   "cell_type": "code",
   "execution_count": 38,
   "metadata": {},
   "outputs": [
    {
     "name": "stdout",
     "output_type": "stream",
     "text": [
      "Shape of xtrain:  (1113, 7)\n",
      "Shape of xtest:  (279, 7)\n",
      "Shape of ytrain : (1113,)\n",
      "Shape of ytest : (279,)\n"
     ]
    }
   ],
   "source": [
    "from sklearn.model_selection import train_test_split\n",
    "\n",
    "x_train_vif, x_test_vif, y_train_vif, y_test_vif = train_test_split(x_vif, y_vif, test_size = 0.2, random_state = 0)\n",
    "\n",
    "print(\"Shape of xtrain: \", x_train_vif.shape)\n",
    "print(\"Shape of xtest: \", x_test_vif.shape)\n",
    "print(\"Shape of ytrain :\", y_train_vif.shape)\n",
    "print(\"Shape of ytest :\", y_test_vif.shape)"
   ]
  },
  {
   "cell_type": "code",
   "execution_count": 39,
   "metadata": {},
   "outputs": [
    {
     "name": "stdout",
     "output_type": "stream",
     "text": [
      "              precision    recall  f1-score   support\n",
      "\n",
      "          No       0.81      0.96      0.88       107\n",
      "         Yes       0.97      0.86      0.91       172\n",
      "\n",
      "    accuracy                           0.90       279\n",
      "   macro avg       0.89      0.91      0.90       279\n",
      "weighted avg       0.91      0.90      0.90       279\n",
      "\n"
     ]
    }
   ],
   "source": [
    "# Lets create a Predictive Model\n",
    "\n",
    "from sklearn.tree import DecisionTreeClassifier\n",
    "from sklearn.metrics import classification_report\n",
    "\n",
    "model = DecisionTreeClassifier()\n",
    "model.fit(x_train_vif, y_train_vif)\n",
    "y_pred_vif = model.predict(x_test_vif)\n",
    "\n",
    "cr = classification_report(y_pred_vif, y_test_vif)\n",
    "print(cr)"
   ]
  },
  {
   "cell_type": "markdown",
   "metadata": {},
   "source": [
    "### Feature Selection with RFECV\n",
    "\n",
    "* Recursive Elimination of Features from the Dataset to Reduce the Complexity"
   ]
  },
  {
   "cell_type": "code",
   "execution_count": 43,
   "metadata": {},
   "outputs": [
    {
     "name": "stdout",
     "output_type": "stream",
     "text": [
      "Optimal number of features : 3\n",
      "Best features : Index(['JobLevel', 'MonthlyIncome', 'MonthlyRate'], dtype='object')\n"
     ]
    }
   ],
   "source": [
    "from sklearn.feature_selection import RFECV\n",
    "\n",
    "# The \"accuracy\" scoring is proportional to the number of correct classifications\n",
    "model = DecisionTreeClassifier() \n",
    "rfecv = RFECV(estimator = model, step = 1, cv = 5, scoring = 'accuracy')\n",
    "rfecv = rfecv.fit(x_train.values, y_train)\n",
    "\n",
    "print('Optimal number of features :', rfecv.n_features_)\n",
    "print('Best features :', x_train.columns[rfecv.support_])"
   ]
  },
  {
   "cell_type": "code",
   "execution_count": 44,
   "metadata": {},
   "outputs": [],
   "source": [
    "# lets Create the Dependent and Independent Sets for RFECV\n",
    "\n",
    "x_rfecv = data[['JobLevel','MonthlyIncome','MonthlyRate']]\n",
    "y_rfecv = data['Attrition']"
   ]
  },
  {
   "cell_type": "code",
   "execution_count": 46,
   "metadata": {},
   "outputs": [
    {
     "data": {
      "text/plain": [
       "Yes    646\n",
       "No     603\n",
       "Name: Attrition, dtype: int64"
      ]
     },
     "execution_count": 46,
     "metadata": {},
     "output_type": "execute_result"
    }
   ],
   "source": [
    "from imblearn.combine import SMOTEENN\n",
    "\n",
    "# defining the Model\n",
    "sn = SMOTEENN(random_state = 0)\n",
    "\n",
    "# Training the Model\n",
    "sn.fit(x_rfecv, y_rfecv)\n",
    "\n",
    "# Making the Samples\n",
    "x_rfecv, y_rfecv = sn.fit_resample(x_rfecv, y_rfecv)\n",
    "\n",
    "# Class Distribution\n",
    "y_rfecv.value_counts()"
   ]
  },
  {
   "cell_type": "code",
   "execution_count": 47,
   "metadata": {},
   "outputs": [
    {
     "name": "stdout",
     "output_type": "stream",
     "text": [
      "Shape of xtrain:  (999, 3)\n",
      "Shape of xtest:  (250, 3)\n",
      "Shape of ytrain : (999,)\n",
      "Shape of ytest : (250,)\n"
     ]
    }
   ],
   "source": [
    "from sklearn.model_selection import train_test_split\n",
    "\n",
    "x_train_rfecv, x_test_rfecv, y_train_rfecv, y_test_rfecv = train_test_split(x_rfecv, y_rfecv,\n",
    "                                                                            test_size = 0.2, random_state = 0)\n",
    "\n",
    "print(\"Shape of xtrain: \", x_train_rfecv.shape)\n",
    "print(\"Shape of xtest: \", x_test_rfecv.shape)\n",
    "print(\"Shape of ytrain :\", y_train_rfecv.shape)\n",
    "print(\"Shape of ytest :\", y_test_rfecv.shape)"
   ]
  },
  {
   "cell_type": "code",
   "execution_count": 48,
   "metadata": {},
   "outputs": [
    {
     "name": "stdout",
     "output_type": "stream",
     "text": [
      "              precision    recall  f1-score   support\n",
      "\n",
      "          No       0.91      0.92      0.92       115\n",
      "         Yes       0.93      0.93      0.93       135\n",
      "\n",
      "    accuracy                           0.92       250\n",
      "   macro avg       0.92      0.92      0.92       250\n",
      "weighted avg       0.92      0.92      0.92       250\n",
      "\n"
     ]
    }
   ],
   "source": [
    "# Lets create a Predictive Model\n",
    "\n",
    "from sklearn.tree import DecisionTreeClassifier\n",
    "from sklearn.metrics import classification_report\n",
    "\n",
    "model = DecisionTreeClassifier()\n",
    "model.fit(x_train_rfecv, y_train_rfecv)\n",
    "y_pred_rfecv = model.predict(x_test_rfecv)\n",
    "\n",
    "cr = classification_report(y_pred_rfecv, y_test_rfecv)\n",
    "print(cr)"
   ]
  },
  {
   "cell_type": "markdown",
   "metadata": {},
   "source": [
    "### Feature Selection using the Boruta Algorithm\n",
    "\n",
    "* In Boruta, features do not compete among themselves. Instead — and this is the first brilliant idea — they compete with a randomized version of them."
   ]
  },
  {
   "cell_type": "code",
   "execution_count": 49,
   "metadata": {},
   "outputs": [
    {
     "name": "stdout",
     "output_type": "stream",
     "text": [
      "features to Keep: ['Age', 'DailyRate', 'DistanceFromHome', 'Education', 'EnvironmentSatisfaction', 'HourlyRate', 'JobInvolvement', 'JobLevel', 'JobRole', 'JobSatisfaction', 'MonthlyIncome', 'MonthlyRate', 'NumCompaniesWorked', 'RelationshipSatisfaction', 'StockOptionLevel', 'TotalWorkingYears', 'TrainingTimesLastYear', 'WorkLifeBalance', 'YearsAtCompany', 'YearsInCurrentRole', 'YearsSinceLastPromotion', 'YearsWithCurrManager']\n"
     ]
    }
   ],
   "source": [
    "# Implementing the Boruta Algorithm\n",
    "from sklearn.ensemble import RandomForestClassifier\n",
    "from boruta import BorutaPy\n",
    "\n",
    "# defining the Model\n",
    "model= RandomForestClassifier(max_depth = 5)\n",
    "\n",
    "# define Boruta feature selection method\n",
    "boruta = BorutaPy(estimator = model, n_estimators = 'auto',\n",
    "                  max_iter = 100, random_state = 0)\n",
    "\n",
    "# find all relevant features\n",
    "boruta.fit(np.array(x), np.array(y))\n",
    "\n",
    "### print results\n",
    "best_features = x.columns[boruta.support_].to_list()\n",
    "print('features to Keep:', best_features)"
   ]
  },
  {
   "cell_type": "code",
   "execution_count": 50,
   "metadata": {},
   "outputs": [],
   "source": [
    "# lets Create the Dependent and Independent Sets for RFECV\n",
    "\n",
    "x_bor = data[['Age', 'DailyRate', 'DistanceFromHome', 'Education', 'EnvironmentSatisfaction',\n",
    "                'HourlyRate', 'JobInvolvement', 'JobLevel', 'JobRole', 'JobSatisfaction',\n",
    "                'MonthlyIncome', 'MonthlyRate', 'NumCompaniesWorked', 'RelationshipSatisfaction',\n",
    "                'StockOptionLevel', 'TotalWorkingYears', 'TrainingTimesLastYear', 'WorkLifeBalance',\n",
    "                'YearsAtCompany', 'YearsInCurrentRole', 'YearsSinceLastPromotion', 'YearsWithCurrManager']]\n",
    "y_bor = data['Attrition']"
   ]
  },
  {
   "cell_type": "code",
   "execution_count": 52,
   "metadata": {},
   "outputs": [
    {
     "data": {
      "text/plain": [
       "Yes    838\n",
       "No     640\n",
       "Name: Attrition, dtype: int64"
      ]
     },
     "execution_count": 52,
     "metadata": {},
     "output_type": "execute_result"
    }
   ],
   "source": [
    "from imblearn.combine import SMOTEENN\n",
    "\n",
    "# defining the Model\n",
    "sn = SMOTEENN(random_state = 0)\n",
    "\n",
    "# Training the Model\n",
    "sn.fit(x_bor, y_bor)\n",
    "\n",
    "# Making the Samples\n",
    "x_bor, y_bor = sn.fit_resample(x_bor, y_bor)\n",
    "\n",
    "# Class Distribution\n",
    "y_bor.value_counts()"
   ]
  },
  {
   "cell_type": "code",
   "execution_count": 53,
   "metadata": {},
   "outputs": [
    {
     "name": "stdout",
     "output_type": "stream",
     "text": [
      "Shape of xtrain:  (1182, 22)\n",
      "Shape of xtest:  (296, 22)\n",
      "Shape of ytrain : (1182,)\n",
      "Shape of ytest : (296,)\n"
     ]
    }
   ],
   "source": [
    "from sklearn.model_selection import train_test_split\n",
    "\n",
    "x_train_bor, x_test_bor, y_train_bor, y_test_bor = train_test_split(x_bor, y_bor,\n",
    "                                                                            test_size = 0.2, random_state = 0)\n",
    "\n",
    "print(\"Shape of xtrain: \", x_train_bor.shape)\n",
    "print(\"Shape of xtest: \", x_test_bor.shape)\n",
    "print(\"Shape of ytrain :\", y_train_bor.shape)\n",
    "print(\"Shape of ytest :\", y_test_bor.shape)"
   ]
  },
  {
   "cell_type": "code",
   "execution_count": 54,
   "metadata": {},
   "outputs": [
    {
     "name": "stdout",
     "output_type": "stream",
     "text": [
      "              precision    recall  f1-score   support\n",
      "\n",
      "          No       0.80      0.87      0.83       127\n",
      "         Yes       0.89      0.83      0.86       169\n",
      "\n",
      "    accuracy                           0.85       296\n",
      "   macro avg       0.84      0.85      0.85       296\n",
      "weighted avg       0.85      0.85      0.85       296\n",
      "\n"
     ]
    }
   ],
   "source": [
    "# Lets create a Predictive Model\n",
    "\n",
    "from sklearn.tree import DecisionTreeClassifier\n",
    "from sklearn.metrics import classification_report\n",
    "\n",
    "model = DecisionTreeClassifier()\n",
    "model.fit(x_train_bor, y_train_bor)\n",
    "y_pred_bor = model.predict(x_test_bor)\n",
    "\n",
    "cr = classification_report(y_pred_bor, y_test_bor)\n",
    "print(cr)"
   ]
  },
  {
   "cell_type": "markdown",
   "metadata": {},
   "source": [
    "### Principal Component Analysis\n",
    "* The principal components of a collection of points in a real p-space that are a sequence of p direction vectors, where the ith vector is the direction of a line that best fits the data while being orthogonal to the first i-1 vectors."
   ]
  },
  {
   "cell_type": "code",
   "execution_count": 56,
   "metadata": {},
   "outputs": [
    {
     "data": {
      "text/plain": [
       "array([0.70121545, 0.99793101, 0.99999233, 0.999997  , 0.99999798,\n",
       "       0.99999875, 0.99999927, 0.99999944, 0.99999958, 0.99999966,\n",
       "       0.99999972, 0.99999978, 0.99999983, 0.99999986, 0.99999988,\n",
       "       0.9999999 , 0.99999992, 0.99999993, 0.99999995, 0.99999996,\n",
       "       0.99999997, 0.99999997, 0.99999998, 0.99999999, 0.99999999,\n",
       "       0.99999999, 1.        , 1.        , 1.        , 1.        ])"
      ]
     },
     "execution_count": 56,
     "metadata": {},
     "output_type": "execute_result"
    }
   ],
   "source": [
    "# lets determine the Value of N-Components\n",
    "from sklearn.decomposition import PCA\n",
    "\n",
    "# Lets create the PCA Model\n",
    "pca = PCA(n_components = None)\n",
    "x_train_pca = pca.fit_transform(x_train)\n",
    "x_test_pca = pca.transform(x_test)\n",
    "\n",
    "# This result the variance explained by the number of components taken into account\n",
    "pca.explained_variance_ratio_.cumsum()"
   ]
  },
  {
   "cell_type": "code",
   "execution_count": 57,
   "metadata": {},
   "outputs": [],
   "source": [
    "from sklearn.decomposition import PCA\n",
    "\n",
    "# Lets create the PCA Model\n",
    "pca = PCA(n_components = 2)\n",
    "x_train_pca = pca.fit_transform(x_train)\n",
    "x_test_pca = pca.transform(x_test)"
   ]
  },
  {
   "cell_type": "code",
   "execution_count": 58,
   "metadata": {},
   "outputs": [
    {
     "name": "stdout",
     "output_type": "stream",
     "text": [
      "              precision    recall  f1-score   support\n",
      "\n",
      "          No       0.91      0.95      0.93       154\n",
      "         Yes       0.95      0.92      0.93       170\n",
      "\n",
      "    accuracy                           0.93       324\n",
      "   macro avg       0.93      0.93      0.93       324\n",
      "weighted avg       0.93      0.93      0.93       324\n",
      "\n"
     ]
    }
   ],
   "source": [
    "# Lets create a Predictive Model\n",
    "\n",
    "from sklearn.tree import DecisionTreeClassifier\n",
    "from sklearn.metrics import classification_report\n",
    "\n",
    "model = DecisionTreeClassifier()\n",
    "model.fit(x_train_pca, y_train)\n",
    "y_pred_pca = model.predict(x_test_pca)\n",
    "\n",
    "cr = classification_report(y_pred_pca, y_test)\n",
    "print(cr)"
   ]
  },
  {
   "cell_type": "code",
   "execution_count": 59,
   "metadata": {},
   "outputs": [
    {
     "data": {
      "text/html": [
       "<div>\n",
       "<style scoped>\n",
       "    .dataframe tbody tr th:only-of-type {\n",
       "        vertical-align: middle;\n",
       "    }\n",
       "\n",
       "    .dataframe tbody tr th {\n",
       "        vertical-align: top;\n",
       "    }\n",
       "\n",
       "    .dataframe thead th {\n",
       "        text-align: right;\n",
       "    }\n",
       "</style>\n",
       "<table border=\"1\" class=\"dataframe\">\n",
       "  <thead>\n",
       "    <tr style=\"text-align: right;\">\n",
       "      <th></th>\n",
       "      <th>x_train_pca0</th>\n",
       "      <th>x_train_pca1</th>\n",
       "      <th>Attrition</th>\n",
       "    </tr>\n",
       "  </thead>\n",
       "  <tbody>\n",
       "    <tr>\n",
       "      <th>211</th>\n",
       "      <td>-6527.478101</td>\n",
       "      <td>12696.045168</td>\n",
       "      <td>No</td>\n",
       "    </tr>\n",
       "    <tr>\n",
       "      <th>1245</th>\n",
       "      <td>854.298666</td>\n",
       "      <td>-3403.885684</td>\n",
       "      <td>Yes</td>\n",
       "    </tr>\n",
       "    <tr>\n",
       "      <th>512</th>\n",
       "      <td>4791.429163</td>\n",
       "      <td>13.855267</td>\n",
       "      <td>No</td>\n",
       "    </tr>\n",
       "    <tr>\n",
       "      <th>1552</th>\n",
       "      <td>10937.947646</td>\n",
       "      <td>-2851.892408</td>\n",
       "      <td>Yes</td>\n",
       "    </tr>\n",
       "    <tr>\n",
       "      <th>513</th>\n",
       "      <td>-690.995398</td>\n",
       "      <td>-2093.674665</td>\n",
       "      <td>No</td>\n",
       "    </tr>\n",
       "  </tbody>\n",
       "</table>\n",
       "</div>"
      ],
      "text/plain": [
       "      x_train_pca0  x_train_pca1 Attrition\n",
       "211   -6527.478101  12696.045168        No\n",
       "1245    854.298666  -3403.885684       Yes\n",
       "512    4791.429163     13.855267        No\n",
       "1552  10937.947646  -2851.892408       Yes\n",
       "513    -690.995398  -2093.674665        No"
      ]
     },
     "execution_count": 59,
     "metadata": {},
     "output_type": "execute_result"
    }
   ],
   "source": [
    "# lets check How these Components will look\n",
    "\n",
    "df = pd.DataFrame({'x_train_pca0':x_train_pca[:,0],\n",
    "                 'x_train_pca1':x_train_pca[:,1],\n",
    "                 'Attrition':y_train})\n",
    "df.head()"
   ]
  },
  {
   "cell_type": "code",
   "execution_count": 60,
   "metadata": {},
   "outputs": [
    {
     "name": "stderr",
     "output_type": "stream",
     "text": [
      "C:\\Users\\Nazhan\\anaconda3\\lib\\site-packages\\seaborn\\_decorators.py:36: FutureWarning: Pass the following variables as keyword args: x, y. From version 0.12, the only valid positional argument will be `data`, and passing other arguments without an explicit keyword will result in an error or misinterpretation.\n",
      "  warnings.warn(\n"
     ]
    },
    {
     "data": {
      "image/png": "[encoded data removed]",
      "text/plain": [
       "<Figure size 648x288 with 1 Axes>"
      ]
     },
     "metadata": {},
     "output_type": "display_data"
    }
   ],
   "source": [
    "# lets plot the Principal Components\n",
    "\n",
    "plt.rcParams['figure.figsize'] = (9, 4)\n",
    "plt.style.use('fivethirtyeight')\n",
    "\n",
    "sns.scatterplot(df['x_train_pca0'], df['x_train_pca1'],\n",
    "                hue = df['Attrition'])\n",
    "plt.title('Principal Components')\n",
    "plt.show()"
   ]
  },
  {
   "cell_type": "markdown",
   "metadata": {},
   "source": [
    "### t-SNE\n",
    "* t-distributed stochastic neighbor embedding is a machine learning algorithm for visualization based on Stochastic Neighbor Embedding originally developed by Sam Roweis and Geoffrey Hinton, where Laurens van der Maaten proposed the t-distributed variant."
   ]
  },
  {
   "cell_type": "code",
   "execution_count": 61,
   "metadata": {},
   "outputs": [],
   "source": [
    "from sklearn.manifold import TSNE\n",
    "\n",
    "tsne = TSNE(n_components = 2)\n",
    "x_train_tsne = pca.fit_transform(x_train)\n",
    "x_test_tsne = pca.transform(x_test)"
   ]
  },
  {
   "cell_type": "code",
   "execution_count": 62,
   "metadata": {},
   "outputs": [
    {
     "name": "stdout",
     "output_type": "stream",
     "text": [
      "              precision    recall  f1-score   support\n",
      "\n",
      "          No       0.91      0.95      0.93       153\n",
      "         Yes       0.96      0.92      0.94       171\n",
      "\n",
      "    accuracy                           0.94       324\n",
      "   macro avg       0.93      0.94      0.94       324\n",
      "weighted avg       0.94      0.94      0.94       324\n",
      "\n"
     ]
    }
   ],
   "source": [
    "# Lets create a Predictive Model\n",
    "\n",
    "from sklearn.tree import DecisionTreeClassifier\n",
    "from sklearn.metrics import classification_report\n",
    "\n",
    "model = DecisionTreeClassifier()\n",
    "model.fit(x_train_tsne, y_train)\n",
    "y_pred_tsne = model.predict(x_test_tsne)\n",
    "\n",
    "cr = classification_report(y_pred_tsne, y_test)\n",
    "print(cr)"
   ]
  },
  {
   "cell_type": "markdown",
   "metadata": {},
   "source": [
    "### Linear Discriminant Analysis\n",
    "* a technique that is used to reduce a large number of variables into fewer numbers of factors. The values of observed data are expressed as functions of a number of possible causes in order to find which are the most important."
   ]
  },
  {
   "cell_type": "code",
   "execution_count": 63,
   "metadata": {},
   "outputs": [],
   "source": [
    "# Implementing LDA\n",
    "from sklearn.discriminant_analysis import LinearDiscriminantAnalysis as LDA\n",
    "\n",
    "# lets define the Model\n",
    "lda = LDA(n_components = None)\n",
    "x_lda = lda.fit_transform(x_train, y_train)\n",
    "\n",
    "# Create array of explained variance ratios\n",
    "lda_var_ratios = lda.explained_variance_ratio_"
   ]
  },
  {
   "cell_type": "code",
   "execution_count": 64,
   "metadata": {},
   "outputs": [
    {
     "data": {
      "text/plain": [
       "1"
      ]
     },
     "execution_count": 64,
     "metadata": {},
     "output_type": "execute_result"
    }
   ],
   "source": [
    "# Create a function\n",
    "def select_n_components(var_ratio, goal_var: float) -> int:\n",
    "    # Set initial variance explained so far\n",
    "    total_variance = 0.0\n",
    "    \n",
    "    # Set initial number of features\n",
    "    n_components = 0\n",
    "    \n",
    "    # For the explained variance of each feature:\n",
    "    for explained_variance in var_ratio:\n",
    "        \n",
    "        # Add the explained variance to the total\n",
    "        total_variance += explained_variance\n",
    "        \n",
    "        # Add one to the number of components\n",
    "        n_components += 1\n",
    "        \n",
    "        # If we reach our goal level of explained variance\n",
    "        if total_variance >= goal_var:\n",
    "            # End the loop\n",
    "            break\n",
    "            \n",
    "    # Return the number of components\n",
    "    return n_components\n",
    "\n",
    "# lets run the function\n",
    "select_n_components(lda_var_ratios, 0.95)"
   ]
  },
  {
   "cell_type": "code",
   "execution_count": 65,
   "metadata": {},
   "outputs": [],
   "source": [
    "# lets define the Model\n",
    "lda = LDA(n_components = 1)\n",
    "x_train_lda = lda.fit_transform(x_train, y_train)\n",
    "x_test_lda = lda.transform(x_test)"
   ]
  },
  {
   "cell_type": "code",
   "execution_count": 66,
   "metadata": {},
   "outputs": [
    {
     "name": "stdout",
     "output_type": "stream",
     "text": [
      "              precision    recall  f1-score   support\n",
      "\n",
      "          No       0.79      0.77      0.78       165\n",
      "         Yes       0.77      0.79      0.78       159\n",
      "\n",
      "    accuracy                           0.78       324\n",
      "   macro avg       0.78      0.78      0.78       324\n",
      "weighted avg       0.78      0.78      0.78       324\n",
      "\n"
     ]
    }
   ],
   "source": [
    "# Lets create a Predictive Model\n",
    "\n",
    "from sklearn.tree import DecisionTreeClassifier\n",
    "from sklearn.metrics import classification_report\n",
    "\n",
    "model = DecisionTreeClassifier()\n",
    "model.fit(x_train_lda, y_train)\n",
    "y_pred_lda = model.predict(x_test_lda)\n",
    "\n",
    "cr = classification_report(y_pred_lda, y_test)\n",
    "print(cr)"
   ]
  },
  {
   "cell_type": "code",
   "execution_count": null,
   "metadata": {},
   "outputs": [],
   "source": []
  }
 ],
 "metadata": {
  "kernelspec": {
   "display_name": "Python 3",
   "language": "python",
   "name": "python3"
  },
  "language_info": {
   "codemirror_mode": {
    "name": "ipython",
    "version": 3
   },
   "file_extension": ".py",
   "mimetype": "text/x-python",
   "name": "python",
   "nbconvert_exporter": "python",
   "pygments_lexer": "ipython3",
   "version": "3.8.5"
  }
 },
 "nbformat": 4,
 "nbformat_minor": 4
}
