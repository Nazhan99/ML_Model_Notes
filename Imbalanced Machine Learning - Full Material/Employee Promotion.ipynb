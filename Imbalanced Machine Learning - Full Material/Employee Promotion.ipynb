{
 "cells": [
  {
   "cell_type": "code",
   "execution_count": 1,
   "metadata": {
    "id": "wf-USKdVSGNT"
   },
   "outputs": [],
   "source": [
    "# for Mathematical Operations\n",
    "import numpy as np\n",
    "\n",
    "# for dataframe Manipulation\n",
    "import pandas as pd \n",
    "\n",
    "# for data visualization\n",
    "import matplotlib.pyplot as plt \n",
    "import seaborn as sns"
   ]
  },
  {
   "cell_type": "code",
   "execution_count": 2,
   "metadata": {
    "id": "jJEsLf08TOrC",
    "outputId": "d6d01070-c557-4d5b-e4f3-6c18b6be54b8"
   },
   "outputs": [
    {
     "data": {
      "text/plain": [
       "(54808, 14)"
      ]
     },
     "execution_count": 2,
     "metadata": {},
     "output_type": "execute_result"
    }
   ],
   "source": [
    "# Importing the dataset\n",
    "data = pd.read_csv(\"employee_promotion.csv\")\n",
    "\n",
    "# lets check the shape of the dataset\n",
    "data.shape"
   ]
  },
  {
   "cell_type": "code",
   "execution_count": 3,
   "metadata": {
    "colab": {
     "base_uri": "https://localhost:8080/",
     "height": 296
    },
    "id": "gO8FWDhLTbsT",
    "outputId": "79f94f91-0f34-4ced-c8fc-6cc52eef5986"
   },
   "outputs": [
    {
     "data": {
      "text/html": [
       "<div>\n",
       "<style scoped>\n",
       "    .dataframe tbody tr th:only-of-type {\n",
       "        vertical-align: middle;\n",
       "    }\n",
       "\n",
       "    .dataframe tbody tr th {\n",
       "        vertical-align: top;\n",
       "    }\n",
       "\n",
       "    .dataframe thead th {\n",
       "        text-align: right;\n",
       "    }\n",
       "</style>\n",
       "<table border=\"1\" class=\"dataframe\">\n",
       "  <thead>\n",
       "    <tr style=\"text-align: right;\">\n",
       "      <th></th>\n",
       "      <th>employee_id</th>\n",
       "      <th>department</th>\n",
       "      <th>region</th>\n",
       "      <th>education</th>\n",
       "      <th>gender</th>\n",
       "      <th>recruitment_channel</th>\n",
       "      <th>no_of_trainings</th>\n",
       "      <th>age</th>\n",
       "      <th>previous_year_rating</th>\n",
       "      <th>length_of_service</th>\n",
       "      <th>KPIs_met &gt;80%</th>\n",
       "      <th>awards_won?</th>\n",
       "      <th>avg_training_score</th>\n",
       "      <th>is_promoted</th>\n",
       "    </tr>\n",
       "  </thead>\n",
       "  <tbody>\n",
       "    <tr>\n",
       "      <th>0</th>\n",
       "      <td>65438</td>\n",
       "      <td>Sales &amp; Marketing</td>\n",
       "      <td>region_7</td>\n",
       "      <td>Master's &amp; above</td>\n",
       "      <td>f</td>\n",
       "      <td>sourcing</td>\n",
       "      <td>1</td>\n",
       "      <td>35</td>\n",
       "      <td>5.0</td>\n",
       "      <td>8</td>\n",
       "      <td>1</td>\n",
       "      <td>0</td>\n",
       "      <td>49</td>\n",
       "      <td>0</td>\n",
       "    </tr>\n",
       "    <tr>\n",
       "      <th>1</th>\n",
       "      <td>65141</td>\n",
       "      <td>Operations</td>\n",
       "      <td>region_22</td>\n",
       "      <td>Bachelor's</td>\n",
       "      <td>m</td>\n",
       "      <td>other</td>\n",
       "      <td>1</td>\n",
       "      <td>30</td>\n",
       "      <td>5.0</td>\n",
       "      <td>4</td>\n",
       "      <td>0</td>\n",
       "      <td>0</td>\n",
       "      <td>60</td>\n",
       "      <td>0</td>\n",
       "    </tr>\n",
       "    <tr>\n",
       "      <th>2</th>\n",
       "      <td>7513</td>\n",
       "      <td>Sales &amp; Marketing</td>\n",
       "      <td>region_19</td>\n",
       "      <td>Bachelor's</td>\n",
       "      <td>m</td>\n",
       "      <td>sourcing</td>\n",
       "      <td>1</td>\n",
       "      <td>34</td>\n",
       "      <td>3.0</td>\n",
       "      <td>7</td>\n",
       "      <td>0</td>\n",
       "      <td>0</td>\n",
       "      <td>50</td>\n",
       "      <td>0</td>\n",
       "    </tr>\n",
       "    <tr>\n",
       "      <th>3</th>\n",
       "      <td>2542</td>\n",
       "      <td>Sales &amp; Marketing</td>\n",
       "      <td>region_23</td>\n",
       "      <td>Bachelor's</td>\n",
       "      <td>m</td>\n",
       "      <td>other</td>\n",
       "      <td>2</td>\n",
       "      <td>39</td>\n",
       "      <td>1.0</td>\n",
       "      <td>10</td>\n",
       "      <td>0</td>\n",
       "      <td>0</td>\n",
       "      <td>50</td>\n",
       "      <td>0</td>\n",
       "    </tr>\n",
       "    <tr>\n",
       "      <th>4</th>\n",
       "      <td>48945</td>\n",
       "      <td>Technology</td>\n",
       "      <td>region_26</td>\n",
       "      <td>Bachelor's</td>\n",
       "      <td>m</td>\n",
       "      <td>other</td>\n",
       "      <td>1</td>\n",
       "      <td>45</td>\n",
       "      <td>3.0</td>\n",
       "      <td>2</td>\n",
       "      <td>0</td>\n",
       "      <td>0</td>\n",
       "      <td>73</td>\n",
       "      <td>0</td>\n",
       "    </tr>\n",
       "  </tbody>\n",
       "</table>\n",
       "</div>"
      ],
      "text/plain": [
       "   employee_id         department     region         education gender  \\\n",
       "0        65438  Sales & Marketing   region_7  Master's & above      f   \n",
       "1        65141         Operations  region_22        Bachelor's      m   \n",
       "2         7513  Sales & Marketing  region_19        Bachelor's      m   \n",
       "3         2542  Sales & Marketing  region_23        Bachelor's      m   \n",
       "4        48945         Technology  region_26        Bachelor's      m   \n",
       "\n",
       "  recruitment_channel  no_of_trainings  age  previous_year_rating  \\\n",
       "0            sourcing                1   35                   5.0   \n",
       "1               other                1   30                   5.0   \n",
       "2            sourcing                1   34                   3.0   \n",
       "3               other                2   39                   1.0   \n",
       "4               other                1   45                   3.0   \n",
       "\n",
       "   length_of_service  KPIs_met >80%  awards_won?  avg_training_score  \\\n",
       "0                  8              1            0                  49   \n",
       "1                  4              0            0                  60   \n",
       "2                  7              0            0                  50   \n",
       "3                 10              0            0                  50   \n",
       "4                  2              0            0                  73   \n",
       "\n",
       "   is_promoted  \n",
       "0            0  \n",
       "1            0  \n",
       "2            0  \n",
       "3            0  \n",
       "4            0  "
      ]
     },
     "execution_count": 3,
     "metadata": {},
     "output_type": "execute_result"
    }
   ],
   "source": [
    "# lets check the head of the dataset\n",
    "data.head()"
   ]
  },
  {
   "cell_type": "code",
   "execution_count": 6,
   "metadata": {
    "colab": {
     "base_uri": "https://localhost:8080/",
     "height": 332
    },
    "id": "r5gt1sMmT5GX",
    "outputId": "848df150-395b-45f3-e51c-f5987976f98f"
   },
   "outputs": [
    {
     "name": "stdout",
     "output_type": "stream",
     "text": [
      "Class 0: 50140\n",
      "Class 1: 4668\n",
      "Ratio: 10.74 : 1\n"
     ]
    }
   ],
   "source": [
    "# Lets generate the Class Distrubtion \n",
    "\n",
    "target_class = data.is_promoted.value_counts()\n",
    "print('Class 0:', target_class[0])\n",
    "print('Class 1:', target_class[1])\n",
    "print('Ratio:', round(target_class[0] / target_class[1], 2), ': 1')"
   ]
  },
  {
   "cell_type": "code",
   "execution_count": 7,
   "metadata": {
    "colab": {
     "base_uri": "https://localhost:8080/",
     "height": 278
    },
    "id": "ODoKTKSTVdRW",
    "outputId": "9aa50523-efcc-4707-8cd6-8389d2508360"
   },
   "outputs": [
    {
     "data": {
      "text/plain": [
       "employee_id                0\n",
       "department                 0\n",
       "region                     0\n",
       "education               2409\n",
       "gender                     0\n",
       "recruitment_channel        0\n",
       "no_of_trainings            0\n",
       "age                        0\n",
       "previous_year_rating    4124\n",
       "length_of_service          0\n",
       "KPIs_met >80%              0\n",
       "awards_won?                0\n",
       "avg_training_score         0\n",
       "is_promoted                0\n",
       "dtype: int64"
      ]
     },
     "execution_count": 7,
     "metadata": {},
     "output_type": "execute_result"
    }
   ],
   "source": [
    "#checking null values\n",
    "data.isnull().sum()"
   ]
  },
  {
   "cell_type": "code",
   "execution_count": 8,
   "metadata": {
    "id": "J8bQADhzViX0",
    "outputId": "b2bd3ddc-d36d-4c65-e7df-8a6145b940fd"
   },
   "outputs": [
    {
     "data": {
      "text/plain": [
       "0"
      ]
     },
     "execution_count": 8,
     "metadata": {},
     "output_type": "execute_result"
    }
   ],
   "source": [
    "# Imputing the Missing values\n",
    "\n",
    "data['education'].fillna(data['education'].mode()[0], inplace = True)\n",
    "data['previous_year_rating'].fillna(data['previous_year_rating'].mode()[0], inplace=True)\n",
    "\n",
    "# Checking the Number of Missing Values\n",
    "data.isnull().sum().sum()"
   ]
  },
  {
   "cell_type": "code",
   "execution_count": 9,
   "metadata": {
    "id": "3dVye86xOvgo",
    "outputId": "815dfd85-b0d7-48be-b36a-aa1030820a02"
   },
   "outputs": [
    {
     "data": {
      "text/plain": [
       "Index(['department', 'region', 'education', 'gender', 'recruitment_channel'], dtype='object')"
      ]
     },
     "execution_count": 9,
     "metadata": {},
     "output_type": "execute_result"
    }
   ],
   "source": [
    "# lets check all the columns which are in String\n",
    "data.select_dtypes('object').columns"
   ]
  },
  {
   "cell_type": "code",
   "execution_count": 11,
   "metadata": {
    "id": "V6Xj99DXjTF8",
    "outputId": "1eb0e4b0-7624-447f-c988-a5d503151871"
   },
   "outputs": [
    {
     "data": {
      "text/plain": [
       "Index([], dtype='object')"
      ]
     },
     "execution_count": 11,
     "metadata": {},
     "output_type": "execute_result"
    }
   ],
   "source": [
    "# Using label encoder for converting categorical values to numerical values\n",
    "\n",
    "from sklearn.preprocessing import LabelEncoder\n",
    "\n",
    "lb = LabelEncoder()\n",
    "data['department'] = lb.fit_transform(data['department'])\n",
    "data['region'] = lb.fit_transform(data['region'])\n",
    "data['education'] = lb.fit_transform(data['education'])\n",
    "data['gender'] = lb.fit_transform(data['gender'])\n",
    "data['recruitment_channel'] = lb.fit_transform(data['recruitment_channel'])\n",
    "\n",
    "# lets check if there are any Categorical Columns left\n",
    "data.select_dtypes('object').columns"
   ]
  },
  {
   "cell_type": "code",
   "execution_count": 12,
   "metadata": {
    "id": "jheNDZYsToYn",
    "outputId": "7c5b36ee-afcc-4ff1-e9f9-e0d5fe70617d"
   },
   "outputs": [
    {
     "name": "stdout",
     "output_type": "stream",
     "text": [
      "The Shape of X:  (54808, 13)\n",
      "The Shape of y:  (54808,)\n"
     ]
    }
   ],
   "source": [
    "# Let's split the Target Data from the Dataset\n",
    "\n",
    "X=data.iloc[:,:-1]\n",
    "y=data.iloc[:,-1]\n",
    "\n",
    "# lets check the shape of x and y\n",
    "print(\"The Shape of X: \", X.shape)\n",
    "print(\"The Shape of y: \", y.shape)"
   ]
  },
  {
   "cell_type": "code",
   "execution_count": 13,
   "metadata": {
    "id": "v0CSpwMZiuHW",
    "outputId": "ea0229c4-d27d-48be-874f-61a0b78744e8"
   },
   "outputs": [
    {
     "name": "stdout",
     "output_type": "stream",
     "text": [
      "The Shape of X train : (43846, 13)\n",
      "The Shape of X test : (10962, 13)\n",
      "The Shape of Y train : (43846,)\n",
      "The Shape of Y test : (10962,)\n"
     ]
    }
   ],
   "source": [
    "# Lets Split the dataset into Training and Testing Sets\n",
    "\n",
    "from sklearn.model_selection import train_test_split\n",
    "\n",
    "X_train, X_test, y_train, y_test = train_test_split(X, y, test_size = 0.2, random_state = 0)\n",
    "\n",
    "# lets print the shapes\n",
    "print(\"The Shape of X train :\", X_train.shape)\n",
    "print(\"The Shape of X test :\", X_test.shape)\n",
    "print(\"The Shape of Y train :\", y_train.shape)\n",
    "print(\"The Shape of Y test :\", y_test.shape)"
   ]
  },
  {
   "cell_type": "markdown",
   "metadata": {
    "id": "o3CKw0JymQ0y"
   },
   "source": [
    "\n",
    "\n",
    "```\n",
    "# This is formatted as code\n",
    "```\n",
    "\n",
    "### Applying Machine Learning Models"
   ]
  },
  {
   "cell_type": "markdown",
   "metadata": {
    "id": "b52wHBnHOvgs"
   },
   "source": [
    "#### Applying Logistic Regression"
   ]
  },
  {
   "cell_type": "code",
   "execution_count": 18,
   "metadata": {
    "id": "lquGE3XCOvgt"
   },
   "outputs": [],
   "source": [
    "# Lets Build a Predictive Model using the Random Forest Classifier\n",
    "\n",
    "from sklearn.linear_model import LogisticRegression\n",
    "\n",
    "# define a Model\n",
    "model1 = LogisticRegression()\n",
    "\n",
    "# Train the Model\n",
    "model1.fit(X_train,y_train)\n",
    "\n",
    "# Predictions for the X test\n",
    "y_pred1 = model1.predict(X_test)"
   ]
  },
  {
   "cell_type": "code",
   "execution_count": 19,
   "metadata": {
    "id": "mrEG7i-QOvgt",
    "outputId": "95cd2a9a-2937-4d98-8b16-882e5b055d15"
   },
   "outputs": [
    {
     "name": "stdout",
     "output_type": "stream",
     "text": [
      "0.9159824849480022\n",
      "              precision    recall  f1-score   support\n",
      "\n",
      "           0       0.92      1.00      0.96     10041\n",
      "           1       0.00      0.00      0.00       921\n",
      "\n",
      "    accuracy                           0.92     10962\n",
      "   macro avg       0.46      0.50      0.48     10962\n",
      "weighted avg       0.84      0.92      0.88     10962\n",
      "\n"
     ]
    },
    {
     "name": "stderr",
     "output_type": "stream",
     "text": [
      "C:\\Users\\Nazhan\\anaconda3\\lib\\site-packages\\sklearn\\metrics\\_classification.py:1308: UndefinedMetricWarning: Precision and F-score are ill-defined and being set to 0.0 in labels with no predicted samples. Use `zero_division` parameter to control this behavior.\n",
      "  _warn_prf(average, modifier, msg_start, len(result))\n",
      "C:\\Users\\Nazhan\\anaconda3\\lib\\site-packages\\sklearn\\metrics\\_classification.py:1308: UndefinedMetricWarning: Precision and F-score are ill-defined and being set to 0.0 in labels with no predicted samples. Use `zero_division` parameter to control this behavior.\n",
      "  _warn_prf(average, modifier, msg_start, len(result))\n",
      "C:\\Users\\Nazhan\\anaconda3\\lib\\site-packages\\sklearn\\metrics\\_classification.py:1308: UndefinedMetricWarning: Precision and F-score are ill-defined and being set to 0.0 in labels with no predicted samples. Use `zero_division` parameter to control this behavior.\n",
      "  _warn_prf(average, modifier, msg_start, len(result))\n"
     ]
    }
   ],
   "source": [
    "# Lets Evaluate the Model using Accuracy and Classification Report\n",
    "from sklearn.metrics import classification_report, accuracy_score\n",
    "\n",
    "print(accuracy_score(y_test, y_pred1))\n",
    "print(classification_report(y_test, y_pred1))"
   ]
  },
  {
   "cell_type": "markdown",
   "metadata": {
    "id": "MruVtdgBOvgu"
   },
   "source": [
    "#### Applying Random Forest"
   ]
  },
  {
   "cell_type": "code",
   "execution_count": 22,
   "metadata": {
    "id": "cnz2pq_siopx"
   },
   "outputs": [],
   "source": [
    "# Lets Build a Predictive Model using the Random Forest Classifier\n",
    "\n",
    "from sklearn.ensemble import RandomForestClassifier\n",
    "\n",
    "# define a Model\n",
    "model = RandomForestClassifier()\n",
    "\n",
    "# Train the Model\n",
    "model.fit(X_train,y_train)\n",
    "\n",
    "# Predictions for the X test\n",
    "y_pred = model.predict(X_test)"
   ]
  },
  {
   "cell_type": "code",
   "execution_count": 23,
   "metadata": {
    "colab": {
     "base_uri": "https://localhost:8080/",
     "height": 317
    },
    "id": "DyaVXRPakxNP",
    "outputId": "376a3a04-c4ef-427e-d642-64ec824f05b3"
   },
   "outputs": [
    {
     "name": "stdout",
     "output_type": "stream",
     "text": [
      "0.9351395730706076\n",
      "              precision    recall  f1-score   support\n",
      "\n",
      "           0       0.94      1.00      0.97     10041\n",
      "           1       0.89      0.26      0.40       921\n",
      "\n",
      "    accuracy                           0.94     10962\n",
      "   macro avg       0.92      0.63      0.68     10962\n",
      "weighted avg       0.93      0.94      0.92     10962\n",
      "\n"
     ]
    }
   ],
   "source": [
    "# Lets Evaluate the Model using Accuracy and Classification Report\n",
    "from sklearn.metrics import classification_report, accuracy_score\n",
    "\n",
    "print(accuracy_score(y_test, y_pred))\n",
    "print(classification_report(y_test, y_pred))"
   ]
  },
  {
   "cell_type": "markdown",
   "metadata": {
    "id": "VcpUamcPmiid"
   },
   "source": [
    "## Using Random OverSampling"
   ]
  },
  {
   "cell_type": "code",
   "execution_count": 29,
   "metadata": {
    "colab": {
     "base_uri": "https://localhost:8080/",
     "height": 72
    },
    "id": "5qYedVitTR5K",
    "outputId": "e52931ab-cf1f-425d-b4a4-ec264a81d851"
   },
   "outputs": [],
   "source": [
    "# OverSampling\n",
    "from imblearn.over_sampling import RandomOverSampler\n",
    "\n",
    "# defining the Model\n",
    "ros = RandomOverSampler(random_state=0)\n",
    "\n",
    "# Training the Model\n",
    "ros.fit(X, y)\n",
    "\n",
    "# Creating the Resampled Sets\n",
    "X_resampled, y_resampled = ros.fit_resample(X, y)"
   ]
  },
  {
   "cell_type": "code",
   "execution_count": 30,
   "metadata": {
    "colab": {
     "base_uri": "https://localhost:8080/",
     "height": 317
    },
    "id": "pcd3s_IkTkv6",
    "outputId": "37067f02-d60a-4596-f620-38f75059f6ec"
   },
   "outputs": [
    {
     "data": {
      "text/plain": [
       "1    50140\n",
       "0    50140\n",
       "Name: is_promoted, dtype: int64"
      ]
     },
     "execution_count": 30,
     "metadata": {},
     "output_type": "execute_result"
    }
   ],
   "source": [
    "# Lets Check the Class Distribution\n",
    "y_resampled.value_counts()"
   ]
  },
  {
   "cell_type": "code",
   "execution_count": 32,
   "metadata": {
    "id": "Nsm8PnN4lVND",
    "outputId": "0d90e1a4-358b-4539-fa29-d051ddc5eaa0"
   },
   "outputs": [
    {
     "name": "stdout",
     "output_type": "stream",
     "text": [
      "The Shape of X train : (80224, 13)\n",
      "The Shape of X test : (20056, 13)\n",
      "The Shape of Y train : (80224,)\n",
      "The Shape of Y test : (20056,)\n"
     ]
    }
   ],
   "source": [
    "# Splitting the dataset\n",
    "X_train_re, X_test_re, y_train_re, y_test_re =train_test_split(X_resampled,\n",
    "                                                               y_resampled,\n",
    "                                                               test_size=0.2,\n",
    "                                                               random_state=0)\n",
    "\n",
    "# lets print the shapes\n",
    "print(\"The Shape of X train :\", X_train_re.shape)\n",
    "print(\"The Shape of X test :\", X_test_re.shape)\n",
    "print(\"The Shape of Y train :\", y_train_re.shape)\n",
    "print(\"The Shape of Y test :\", y_test_re.shape)"
   ]
  },
  {
   "cell_type": "code",
   "execution_count": 33,
   "metadata": {
    "id": "_r1l7Hihlu8e"
   },
   "outputs": [],
   "source": [
    "# Lets Build a Predictive Model using the Random Forest Classifier\n",
    "\n",
    "from sklearn.ensemble import RandomForestClassifier\n",
    "\n",
    "# define a Model\n",
    "model2 = RandomForestClassifier()\n",
    "\n",
    "# Train the Model\n",
    "model2.fit(X_train_re, y_train_re)\n",
    "\n",
    "# Predictions for the X test\n",
    "y_pred_re = model2.predict(X_test_re)"
   ]
  },
  {
   "cell_type": "code",
   "execution_count": 34,
   "metadata": {
    "colab": {
     "base_uri": "https://localhost:8080/",
     "height": 191
    },
    "id": "whI11P4al3Ax",
    "outputId": "fd8bfc27-b85f-47ae-d3a8-7ef3814e6e39"
   },
   "outputs": [
    {
     "name": "stdout",
     "output_type": "stream",
     "text": [
      "0.9907758276824891\n",
      "              precision    recall  f1-score   support\n",
      "\n",
      "           0       1.00      0.98      0.99      9981\n",
      "           1       0.98      1.00      0.99     10075\n",
      "\n",
      "    accuracy                           0.99     20056\n",
      "   macro avg       0.99      0.99      0.99     20056\n",
      "weighted avg       0.99      0.99      0.99     20056\n",
      "\n"
     ]
    }
   ],
   "source": [
    "# Accuracy score and classification report\n",
    "from sklearn.metrics import classification_report, accuracy_score\n",
    "\n",
    "print(accuracy_score(y_test_re, y_pred_re))\n",
    "print(classification_report(y_test_re, y_pred_re))"
   ]
  },
  {
   "cell_type": "markdown",
   "metadata": {
    "id": "L-wO2St3Ovg0"
   },
   "source": [
    "## Using Random Undersampling "
   ]
  },
  {
   "cell_type": "code",
   "execution_count": 36,
   "metadata": {
    "id": "wRDITHMAOvg2"
   },
   "outputs": [],
   "source": [
    "from imblearn.under_sampling import RandomUnderSampler\n",
    "\n",
    "# defining the Model\n",
    "ros = RandomUnderSampler(random_state=0)\n",
    "\n",
    "# Training the Model\n",
    "ros.fit(X, y)\n",
    "\n",
    "# Making the Samples\n",
    "X_resampled2, y_resampled2 = ros.fit_resample(X, y)"
   ]
  },
  {
   "cell_type": "code",
   "execution_count": 37,
   "metadata": {
    "id": "wqpVQ66yOvg3",
    "outputId": "1a0ee61d-f87c-46e8-d279-3dd2812a2be8"
   },
   "outputs": [
    {
     "data": {
      "text/plain": [
       "1    4668\n",
       "0    4668\n",
       "Name: is_promoted, dtype: int64"
      ]
     },
     "execution_count": 37,
     "metadata": {},
     "output_type": "execute_result"
    }
   ],
   "source": [
    "# lets check the Class Distribution\n",
    "y_resampled2.value_counts()"
   ]
  },
  {
   "cell_type": "code",
   "execution_count": 38,
   "metadata": {
    "id": "aX5Fm7AOOvg6",
    "outputId": "5a9f8d3a-faf0-4129-8ba9-6134bc1b98d8"
   },
   "outputs": [
    {
     "name": "stdout",
     "output_type": "stream",
     "text": [
      "The Shape of X train : (7468, 13)\n",
      "The Shape of X test : (1868, 13)\n",
      "The Shape of Y train : (7468,)\n",
      "The Shape of Y test : (1868,)\n"
     ]
    }
   ],
   "source": [
    "# Splitting the dataset\n",
    "X_train_us, X_test_us, y_train_us, y_test_us =train_test_split(X_resampled2,\n",
    "                                                               y_resampled2,\n",
    "                                                               test_size=0.2,\n",
    "                                                               random_state=0)\n",
    "\n",
    "# lets print the shapes\n",
    "print(\"The Shape of X train :\", X_train_us.shape)\n",
    "print(\"The Shape of X test :\", X_test_us.shape)\n",
    "print(\"The Shape of Y train :\", y_train_us.shape)\n",
    "print(\"The Shape of Y test :\", y_test_us.shape)"
   ]
  },
  {
   "cell_type": "code",
   "execution_count": 39,
   "metadata": {
    "id": "a-6nsQpJOvg8"
   },
   "outputs": [],
   "source": [
    "# Lets Build a Predictive Model using the Random Forest Classifier\n",
    "\n",
    "from sklearn.ensemble import RandomForestClassifier\n",
    "\n",
    "# define a Model\n",
    "model3 = RandomForestClassifier()\n",
    "\n",
    "# Train the Model\n",
    "model3.fit(X_train_us, y_train_us)\n",
    "\n",
    "# Predictions for the X test\n",
    "y_pred_us = model3.predict(X_test_us)"
   ]
  },
  {
   "cell_type": "code",
   "execution_count": 40,
   "metadata": {
    "id": "cRISjy33OvhD",
    "outputId": "7d1d584f-d25f-45dd-fe8c-7a23daa4cb44"
   },
   "outputs": [
    {
     "name": "stdout",
     "output_type": "stream",
     "text": [
      "0.7965738758029979\n",
      "              precision    recall  f1-score   support\n",
      "\n",
      "           0       0.85      0.72      0.78       929\n",
      "           1       0.76      0.88      0.81       939\n",
      "\n",
      "    accuracy                           0.80      1868\n",
      "   macro avg       0.80      0.80      0.80      1868\n",
      "weighted avg       0.80      0.80      0.80      1868\n",
      "\n"
     ]
    }
   ],
   "source": [
    "# Accuracy score and classification report\n",
    "from sklearn.metrics import classification_report, accuracy_score\n",
    "\n",
    "print(accuracy_score(y_test_us, y_pred_us))\n",
    "print(classification_report(y_test_us, y_pred_us))"
   ]
  },
  {
   "cell_type": "markdown",
   "metadata": {
    "id": "sAiJdCiTOvhH"
   },
   "source": [
    "## Using Synthetic Sampling"
   ]
  },
  {
   "cell_type": "code",
   "execution_count": 42,
   "metadata": {
    "id": "Ata429zgOvhI"
   },
   "outputs": [],
   "source": [
    "from imblearn.over_sampling import SMOTE\n",
    "\n",
    "# defining the Model\n",
    "sm = SMOTE(random_state=0)\n",
    "\n",
    "# Training the Model\n",
    "sm.fit(X, y)\n",
    "\n",
    "# Making the Samples\n",
    "X_resampled3, y_resampled3 = sm.fit_resample(X, y)"
   ]
  },
  {
   "cell_type": "code",
   "execution_count": 43,
   "metadata": {
    "id": "GlVjVfFbOvhL",
    "outputId": "16611e29-a032-4c7b-bd42-afed892e80b8"
   },
   "outputs": [
    {
     "data": {
      "text/plain": [
       "1    50140\n",
       "0    50140\n",
       "Name: is_promoted, dtype: int64"
      ]
     },
     "execution_count": 43,
     "metadata": {},
     "output_type": "execute_result"
    }
   ],
   "source": [
    "# lets check the Class Distribution\n",
    "y_resampled3.value_counts()"
   ]
  },
  {
   "cell_type": "code",
   "execution_count": 44,
   "metadata": {
    "id": "3HIejbS7OvhM",
    "outputId": "e86ed9b8-4787-4c6c-9a97-5e095f4ff509"
   },
   "outputs": [
    {
     "name": "stdout",
     "output_type": "stream",
     "text": [
      "The Shape of X train : (80224, 13)\n",
      "The Shape of X test : (20056, 13)\n",
      "The Shape of Y train : (80224,)\n",
      "The Shape of Y test : (20056,)\n"
     ]
    }
   ],
   "source": [
    "# Splitting the dataset\n",
    "X_train_sm, X_test_sm, y_train_sm, y_test_sm =train_test_split(X_resampled3,\n",
    "                                                               y_resampled3,\n",
    "                                                               test_size=0.2,\n",
    "                                                               random_state=0)\n",
    "\n",
    "# lets print the shapes\n",
    "print(\"The Shape of X train :\", X_train_sm.shape)\n",
    "print(\"The Shape of X test :\", X_test_sm.shape)\n",
    "print(\"The Shape of Y train :\", y_train_sm.shape)\n",
    "print(\"The Shape of Y test :\", y_test_sm.shape)"
   ]
  },
  {
   "cell_type": "code",
   "execution_count": 45,
   "metadata": {
    "id": "rw3d6vJbOvhN"
   },
   "outputs": [],
   "source": [
    "# Lets Build a Predictive Model using the Random Forest Classifier\n",
    "\n",
    "from sklearn.ensemble import RandomForestClassifier\n",
    "\n",
    "# define a Model\n",
    "model4 = RandomForestClassifier()\n",
    "\n",
    "# Train the Model\n",
    "model4.fit(X_train_sm, y_train_sm)\n",
    "\n",
    "# Predictions for the X test\n",
    "y_pred_sm = model4.predict(X_test_sm)"
   ]
  },
  {
   "cell_type": "code",
   "execution_count": 46,
   "metadata": {
    "id": "I0y2sY-yOvhO",
    "outputId": "17ee5c68-4881-4714-892b-dbca234fb7b8"
   },
   "outputs": [
    {
     "name": "stdout",
     "output_type": "stream",
     "text": [
      "0.9482449142401277\n",
      "              precision    recall  f1-score   support\n",
      "\n",
      "           0       0.93      0.97      0.95      9981\n",
      "           1       0.97      0.93      0.95     10075\n",
      "\n",
      "    accuracy                           0.95     20056\n",
      "   macro avg       0.95      0.95      0.95     20056\n",
      "weighted avg       0.95      0.95      0.95     20056\n",
      "\n"
     ]
    }
   ],
   "source": [
    "# Accuracy score and classification report\n",
    "from sklearn.metrics import classification_report, accuracy_score\n",
    "\n",
    "print(accuracy_score(y_test_sm, y_pred_sm))\n",
    "print(classification_report(y_test_sm, y_pred_sm))"
   ]
  },
  {
   "cell_type": "markdown",
   "metadata": {
    "id": "Ud30iMWeOvhO"
   },
   "source": [
    "## Using Neighbors Based Sampling"
   ]
  },
  {
   "cell_type": "code",
   "execution_count": 47,
   "metadata": {
    "id": "uBAv8x25OvhP"
   },
   "outputs": [],
   "source": [
    "from imblearn.under_sampling import EditedNearestNeighbours\n",
    "\n",
    "# defining the Model\n",
    "enn = EditedNearestNeighbours()\n",
    "\n",
    "# Training the Model\n",
    "enn.fit(X, y)\n",
    "\n",
    "# Making the Samples\n",
    "X_resampled4, y_resampled4 = enn.fit_resample(X, y)"
   ]
  },
  {
   "cell_type": "code",
   "execution_count": 48,
   "metadata": {
    "id": "e69iui4NOvhP",
    "outputId": "4525c145-24dc-483e-ae08-7f71c97b184a"
   },
   "outputs": [
    {
     "data": {
      "text/plain": [
       "0    39220\n",
       "1     4668\n",
       "Name: is_promoted, dtype: int64"
      ]
     },
     "execution_count": 48,
     "metadata": {},
     "output_type": "execute_result"
    }
   ],
   "source": [
    "# lets check the Class Distribution\n",
    "y_resampled4.value_counts()"
   ]
  },
  {
   "cell_type": "code",
   "execution_count": 49,
   "metadata": {
    "id": "JAoIGrAgOvhQ",
    "outputId": "2de11d80-ae2a-4359-c701-156424306cc4"
   },
   "outputs": [
    {
     "name": "stdout",
     "output_type": "stream",
     "text": [
      "The Shape of X train : (35110, 13)\n",
      "The Shape of X test : (8778, 13)\n",
      "The Shape of Y train : (35110,)\n",
      "The Shape of Y test : (8778,)\n"
     ]
    }
   ],
   "source": [
    "# Splitting the dataset\n",
    "X_train_enn, X_test_enn, y_train_enn, y_test_enn =train_test_split(X_resampled4,\n",
    "                                                               y_resampled4,\n",
    "                                                               test_size=0.2,\n",
    "                                                               random_state=0)\n",
    "\n",
    "# lets print the shapes\n",
    "print(\"The Shape of X train :\", X_train_enn.shape)\n",
    "print(\"The Shape of X test :\", X_test_enn.shape)\n",
    "print(\"The Shape of Y train :\", y_train_enn.shape)\n",
    "print(\"The Shape of Y test :\", y_test_enn.shape)"
   ]
  },
  {
   "cell_type": "code",
   "execution_count": 50,
   "metadata": {
    "id": "FoVptj7mOvhQ"
   },
   "outputs": [],
   "source": [
    "# Lets Build a Predictive Model using the Random Forest Classifier\n",
    "\n",
    "from sklearn.ensemble import RandomForestClassifier\n",
    "\n",
    "# define a Model\n",
    "model5 = RandomForestClassifier()\n",
    "\n",
    "# Train the Model\n",
    "model5.fit(X_train_enn, y_train_enn)\n",
    "\n",
    "# Predictions for the X test\n",
    "y_pred_enn = model5.predict(X_test_enn)"
   ]
  },
  {
   "cell_type": "code",
   "execution_count": 51,
   "metadata": {
    "id": "pUP4cpiWOvhR",
    "outputId": "b13de373-3ba1-46c9-e830-30cec2f12720"
   },
   "outputs": [
    {
     "name": "stdout",
     "output_type": "stream",
     "text": [
      "0.9172932330827067\n",
      "              precision    recall  f1-score   support\n",
      "\n",
      "           0       0.92      0.99      0.96      7785\n",
      "           1       0.88      0.31      0.46       993\n",
      "\n",
      "    accuracy                           0.92      8778\n",
      "   macro avg       0.90      0.65      0.71      8778\n",
      "weighted avg       0.91      0.92      0.90      8778\n",
      "\n"
     ]
    }
   ],
   "source": [
    "# Accuracy score and classification report\n",
    "from sklearn.metrics import classification_report, accuracy_score\n",
    "\n",
    "print(accuracy_score(y_test_enn, y_pred_enn))\n",
    "print(classification_report(y_test_enn, y_pred_enn))"
   ]
  },
  {
   "cell_type": "markdown",
   "metadata": {
    "id": "vasdjuw6OvhT"
   },
   "source": [
    "## Combination of Over and UnderSampling"
   ]
  },
  {
   "cell_type": "code",
   "execution_count": 52,
   "metadata": {
    "id": "VN3rtNrWOvhV"
   },
   "outputs": [],
   "source": [
    "from imblearn.combine import SMOTEENN\n",
    "\n",
    "# defining the Model\n",
    "sn = SMOTEENN(random_state = 0)\n",
    "\n",
    "# Training the Model\n",
    "sn.fit(X, y)\n",
    "\n",
    "# Making the Samples\n",
    "X_resampled5, y_resampled5 = sn.fit_resample(X, y)"
   ]
  },
  {
   "cell_type": "code",
   "execution_count": 53,
   "metadata": {
    "id": "HO8NbiWLOvhW",
    "outputId": "f422b604-ad6e-48c5-e6ef-315abda1b66d"
   },
   "outputs": [
    {
     "data": {
      "text/plain": [
       "1    42331\n",
       "0    26832\n",
       "Name: is_promoted, dtype: int64"
      ]
     },
     "execution_count": 53,
     "metadata": {},
     "output_type": "execute_result"
    }
   ],
   "source": [
    "# lets check the Class Distribution\n",
    "y_resampled5.value_counts()"
   ]
  },
  {
   "cell_type": "code",
   "execution_count": 54,
   "metadata": {
    "id": "KPX5OdU9OvhY",
    "outputId": "b0b04251-0eb2-4d98-8c43-c61efe27df53"
   },
   "outputs": [
    {
     "name": "stdout",
     "output_type": "stream",
     "text": [
      "The Shape of X train : (55330, 13)\n",
      "The Shape of X test : (13833, 13)\n",
      "The Shape of Y train : (55330,)\n",
      "The Shape of Y test : (13833,)\n"
     ]
    }
   ],
   "source": [
    "# Splitting the dataset\n",
    "X_train_sn, X_test_sn, y_train_sn, y_test_sn =train_test_split(X_resampled5,\n",
    "                                                               y_resampled5,\n",
    "                                                               test_size=0.2,\n",
    "                                                               random_state=0)\n",
    "\n",
    "# lets print the shapes\n",
    "print(\"The Shape of X train :\", X_train_sn.shape)\n",
    "print(\"The Shape of X test :\", X_test_sn.shape)\n",
    "print(\"The Shape of Y train :\", y_train_sn.shape)\n",
    "print(\"The Shape of Y test :\", y_test_sn.shape)"
   ]
  },
  {
   "cell_type": "code",
   "execution_count": 55,
   "metadata": {
    "id": "pmCFSn2xOvhZ"
   },
   "outputs": [],
   "source": [
    "# Lets Build a Predictive Model using the Random Forest Classifier\n",
    "\n",
    "from sklearn.ensemble import RandomForestClassifier\n",
    "\n",
    "# define a Model\n",
    "model6 = RandomForestClassifier()\n",
    "\n",
    "# Train the Model\n",
    "model6.fit(X_train_sn, y_train_sn)\n",
    "\n",
    "# Predictions for the X test\n",
    "y_pred_sn = model6.predict(X_test_sn)"
   ]
  },
  {
   "cell_type": "code",
   "execution_count": 56,
   "metadata": {
    "id": "3fH1MuQ8Ovha",
    "outputId": "3d540c87-95c6-4d2d-f268-69a2377dfc2e"
   },
   "outputs": [
    {
     "name": "stdout",
     "output_type": "stream",
     "text": [
      "0.940793754066363\n",
      "              precision    recall  f1-score   support\n",
      "\n",
      "           0       0.91      0.93      0.92      5203\n",
      "           1       0.96      0.95      0.95      8630\n",
      "\n",
      "    accuracy                           0.94     13833\n",
      "   macro avg       0.94      0.94      0.94     13833\n",
      "weighted avg       0.94      0.94      0.94     13833\n",
      "\n"
     ]
    }
   ],
   "source": [
    "# Accuracy score and classification report\n",
    "from sklearn.metrics import classification_report, accuracy_score\n",
    "\n",
    "print(accuracy_score(y_test_sn, y_pred_sn))\n",
    "print(classification_report(y_test_sn, y_pred_sn))"
   ]
  },
  {
   "cell_type": "markdown",
   "metadata": {
    "id": "IFgWvZNQOvha"
   },
   "source": [
    "## Using Ensemble Models"
   ]
  },
  {
   "cell_type": "markdown",
   "metadata": {
    "id": "W0TFuLX_Ovha"
   },
   "source": [
    "### Balanced Bagging Classifier"
   ]
  },
  {
   "cell_type": "code",
   "execution_count": 57,
   "metadata": {
    "id": "SI-BWmHvOvhb"
   },
   "outputs": [],
   "source": [
    "from imblearn.ensemble import BalancedBaggingClassifier\n",
    "\n",
    "# defining a Model\n",
    "model7 = BalancedBaggingClassifier(random_state = 0)\n",
    "\n",
    "# Train the Model\n",
    "model7.fit(X_train, y_train)\n",
    "\n",
    "# Predictions for the X test\n",
    "y_pred_bg = model7.predict(X_test)"
   ]
  },
  {
   "cell_type": "code",
   "execution_count": 58,
   "metadata": {
    "id": "1gn8IkEyOvhb",
    "outputId": "572494c4-0993-46fc-b269-aecc9aa4c161"
   },
   "outputs": [
    {
     "name": "stdout",
     "output_type": "stream",
     "text": [
      "0.8362525086663017\n",
      "              precision    recall  f1-score   support\n",
      "\n",
      "           0       0.97      0.85      0.90     10041\n",
      "           1       0.30      0.70      0.42       921\n",
      "\n",
      "    accuracy                           0.84     10962\n",
      "   macro avg       0.63      0.78      0.66     10962\n",
      "weighted avg       0.91      0.84      0.86     10962\n",
      "\n"
     ]
    }
   ],
   "source": [
    "# Accuracy score and classification report\n",
    "from sklearn.metrics import classification_report, accuracy_score\n",
    "\n",
    "print(accuracy_score(y_test, y_pred_bg))\n",
    "print(classification_report(y_test, y_pred_bg))"
   ]
  },
  {
   "cell_type": "markdown",
   "metadata": {
    "id": "7j6eVZiJOvhc"
   },
   "source": [
    "### Balanced Random Forest Classifier"
   ]
  },
  {
   "cell_type": "code",
   "execution_count": 59,
   "metadata": {
    "id": "2kZR3FAoOvhc"
   },
   "outputs": [],
   "source": [
    "from imblearn.ensemble import BalancedRandomForestClassifier\n",
    "\n",
    "# defining a Model\n",
    "model8 = BalancedRandomForestClassifier(random_state = 0)\n",
    "\n",
    "# Train the Model\n",
    "model8.fit(X_train, y_train)\n",
    "\n",
    "# Predictions for the X test\n",
    "y_pred_rf = model8.predict(X_test)"
   ]
  },
  {
   "cell_type": "code",
   "execution_count": 60,
   "metadata": {
    "id": "cjTbGmcoOvhc",
    "outputId": "87ea8cae-b09e-459e-e80e-f1e5017506f2"
   },
   "outputs": [
    {
     "name": "stdout",
     "output_type": "stream",
     "text": [
      "0.7298850574712644\n",
      "              precision    recall  f1-score   support\n",
      "\n",
      "           0       0.99      0.71      0.83     10041\n",
      "           1       0.22      0.90      0.36       921\n",
      "\n",
      "    accuracy                           0.73     10962\n",
      "   macro avg       0.61      0.81      0.59     10962\n",
      "weighted avg       0.92      0.73      0.79     10962\n",
      "\n"
     ]
    }
   ],
   "source": [
    "# Accuracy score and classification report\n",
    "from sklearn.metrics import classification_report, accuracy_score\n",
    "\n",
    "print(accuracy_score(y_test, y_pred_rf))\n",
    "print(classification_report(y_test, y_pred_rf))"
   ]
  },
  {
   "cell_type": "markdown",
   "metadata": {
    "id": "X57fGzIvOvhd"
   },
   "source": [
    "## Using XG Boost Classifier"
   ]
  },
  {
   "cell_type": "code",
   "execution_count": 63,
   "metadata": {
    "id": "428lI0IwOvhe"
   },
   "outputs": [
    {
     "name": "stderr",
     "output_type": "stream",
     "text": [
      "C:\\Users\\Nazhan\\anaconda3\\lib\\site-packages\\xgboost\\sklearn.py:1224: UserWarning: The use of label encoder in XGBClassifier is deprecated and will be removed in a future release. To remove this warning, do the following: 1) Pass option use_label_encoder=False when constructing XGBClassifier object; and 2) Encode your labels (y) as integers starting with 0, i.e. 0, 1, 2, ..., [num_class - 1].\n",
      "  warnings.warn(label_encoder_deprecation_msg, UserWarning)\n"
     ]
    },
    {
     "name": "stdout",
     "output_type": "stream",
     "text": [
      "[21:22:02] WARNING: C:/Users/Administrator/workspace/xgboost-win64_release_1.5.1/src/learner.cc:1115: Starting in XGBoost 1.3.0, the default evaluation metric used with the objective 'binary:logistic' was changed from 'error' to 'logloss'. Explicitly set eval_metric if you'd like to restore the old behavior.\n"
     ]
    }
   ],
   "source": [
    "from xgboost import XGBClassifier\n",
    "\n",
    "# defining the Model\n",
    "model9 = XGBClassifier(scale_pos_weight = 10)\n",
    "\n",
    "# Train the Model\n",
    "model9.fit(X_train, y_train)\n",
    "\n",
    "# Predictions for the X test\n",
    "y_pred_xgb = model9.predict(X_test)"
   ]
  },
  {
   "cell_type": "code",
   "execution_count": 64,
   "metadata": {
    "id": "2R4WTKo9Ovhe",
    "outputId": "e2920dcc-3df4-4455-a6f0-aa616cb089f3"
   },
   "outputs": [
    {
     "name": "stdout",
     "output_type": "stream",
     "text": [
      "0.8375296478744755\n",
      "              precision    recall  f1-score   support\n",
      "\n",
      "           0       0.97      0.85      0.91     10041\n",
      "           1       0.30      0.72      0.43       921\n",
      "\n",
      "    accuracy                           0.84     10962\n",
      "   macro avg       0.64      0.78      0.67     10962\n",
      "weighted avg       0.91      0.84      0.87     10962\n",
      "\n"
     ]
    }
   ],
   "source": [
    "# Accuracy score and classification report\n",
    "from sklearn.metrics import classification_report, accuracy_score\n",
    "\n",
    "print(accuracy_score(y_test, y_pred_xgb))\n",
    "print(classification_report(y_test, y_pred_xgb))"
   ]
  },
  {
   "cell_type": "markdown",
   "metadata": {
    "id": "LUsYeVixOvhf"
   },
   "source": [
    "### Conclussion: \n",
    "\n",
    "* Without Resampling: Recall = 25%\n",
    "* With Oversampling: Recall = 98%\n",
    "* With undersampling: Recall = 71%\n",
    "\n",
    "```We can see that Oversampling Performs better than Undersampling, as Undersampling leads to Huge Data Loss, making it Difficult for the Model to Learn the Rules Effectively.```"
   ]
  },
  {
   "cell_type": "code",
   "execution_count": null,
   "metadata": {},
   "outputs": [],
   "source": []
  }
 ],
 "metadata": {
  "colab": {
   "name": "Dealing with Imbalanced Datasets.ipynb",
   "provenance": []
  },
  "kernelspec": {
   "display_name": "Python 3",
   "language": "python",
   "name": "python3"
  },
  "language_info": {
   "codemirror_mode": {
    "name": "ipython",
    "version": 3
   },
   "file_extension": ".py",
   "mimetype": "text/x-python",
   "name": "python",
   "nbconvert_exporter": "python",
   "pygments_lexer": "ipython3",
   "version": "3.8.5"
  }
 },
 "nbformat": 4,
 "nbformat_minor": 1
}
